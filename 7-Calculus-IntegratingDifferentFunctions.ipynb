{
 "cells": [
  {
   "cell_type": "markdown",
   "metadata": {
    "id": "ZMNnuN4xmVKQ"
   },
   "source": [
    "## Integrations of Given Equations Using SciPy and SymPy\n",
    "\n",
    "- Linear\n",
    "- Quadratic\n",
    "- Polynomial\n",
    "- Trigonometry\n",
    "- Exponential\n",
    "- Logarithm Functions"
   ]
  },
  {
   "cell_type": "code",
   "execution_count": 1,
   "metadata": {
    "id": "5UV3zH3HmVKX"
   },
   "outputs": [],
   "source": [
    "import numpy as np\n",
    "\n",
    "from scipy.integrate import quad\n",
    "import matplotlib.pyplot as plt"
   ]
  },
  {
   "cell_type": "markdown",
   "metadata": {
    "id": "XUuzHjhPmVKY"
   },
   "source": [
    "#### Here we are performing integration without using any library\n",
    "\n",
    "https://ml-cheatsheet.readthedocs.io/en/latest/calculus.html#integrals\n"
   ]
  },
  {
   "cell_type": "markdown",
   "metadata": {
    "id": "p6WpxptymVKY"
   },
   "source": [
    "### Create own integral function to integrate given general function."
   ]
  },
  {
   "cell_type": "code",
   "execution_count": 2,
   "metadata": {
    "id": "WKR0yyKDmVKZ"
   },
   "outputs": [],
   "source": [
    "def integral_func(func, lower_limit, upper_limit):\n",
    "\n",
    "    h = 0.0001\n",
    "    \n",
    "    x = lower_limit\n",
    "    \n",
    "    total_area = 0\n",
    "    \n",
    "    while x <= upper_limit:\n",
    "    \n",
    "        total_area += h*func(x)\n",
    "        x += h\n",
    "    \n",
    "    return total_area"
   ]
  },
  {
   "cell_type": "markdown",
   "metadata": {
    "id": "zNRzmcTxmVKZ"
   },
   "source": [
    "### Find integration of \n",
    "\n",
    "- f(x) = x at lower_limit = 0, upper_limit = 1\n",
    "- f(x) = x^2 at lower_limit = 0, upper_limit = 1\n",
    "\n",
    "solution\n",
    "\n",
    "- x^/2 |from 0 to 1 = 0.5\n",
    "\n",
    "- x^3/3 |from 0 to 1 = 0.33\n"
   ]
  },
  {
   "cell_type": "code",
   "execution_count": 3,
   "metadata": {
    "id": "NHAy_K8SmVKZ"
   },
   "outputs": [],
   "source": [
    "lw_limit = 0\n",
    "up_limit = 1"
   ]
  },
  {
   "cell_type": "code",
   "execution_count": 4,
   "metadata": {
    "id": "Ds-jgHoHmVKa"
   },
   "outputs": [],
   "source": [
    "def f(x):\n",
    "    return x"
   ]
  },
  {
   "cell_type": "code",
   "execution_count": 5,
   "metadata": {
    "id": "scb2RyyUmVKa",
    "outputId": "e224aa92-4e43-490d-b773-936baaeafc69"
   },
   "outputs": [
    {
     "data": {
      "text/plain": [
       "0.5000499999999602"
      ]
     },
     "execution_count": 5,
     "metadata": {},
     "output_type": "execute_result"
    }
   ],
   "source": [
    "integral_func(f, lw_limit, up_limit)"
   ]
  },
  {
   "cell_type": "markdown",
   "metadata": {
    "id": "QvjRDJzQmVKb"
   },
   "source": [
    "## This is SciPy package\n",
    "\n",
    "https://docs.scipy.org/doc/scipy/reference/tutorial/integrate.html"
   ]
  },
  {
   "cell_type": "code",
   "execution_count": 6,
   "metadata": {
    "id": "JPcQ5Iv9mVKb",
    "outputId": "f08549de-999e-4ad3-9acf-1608bfd6aafc"
   },
   "outputs": [
    {
     "data": {
      "text/plain": [
       "0.5"
      ]
     },
     "execution_count": 6,
     "metadata": {},
     "output_type": "execute_result"
    }
   ],
   "source": [
    "I = quad(f, lw_limit, up_limit)[0]\n",
    "\n",
    "I"
   ]
  },
  {
   "cell_type": "markdown",
   "metadata": {
    "id": "1k4Qc3pjmVKc"
   },
   "source": [
    "### Check analytically\n",
    "\n",
    "Integration of x will be 1/2*x^2\n",
    "\n",
    "We got approximate same as above"
   ]
  },
  {
   "cell_type": "code",
   "execution_count": 7,
   "metadata": {
    "id": "1vEnb7ROmVKc"
   },
   "outputs": [],
   "source": [
    "def area(x):\n",
    "    return 0.5*x**2"
   ]
  },
  {
   "cell_type": "code",
   "execution_count": 8,
   "metadata": {
    "id": "KQUxFWNUmVKc",
    "outputId": "2240db92-1ede-4a8a-ebb3-212e299c4a95"
   },
   "outputs": [
    {
     "data": {
      "text/plain": [
       "0.5"
      ]
     },
     "execution_count": 8,
     "metadata": {},
     "output_type": "execute_result"
    }
   ],
   "source": [
    "area_undercurve = area(up_limit) - area(lw_limit)\n",
    "\n",
    "area_undercurve"
   ]
  },
  {
   "cell_type": "markdown",
   "metadata": {
    "id": "3ZQqii-bmVKd"
   },
   "source": [
    "### Integration of \n",
    "\n",
    "f(x) = x^2"
   ]
  },
  {
   "cell_type": "code",
   "execution_count": 9,
   "metadata": {
    "id": "DA7uvSI4mVKd"
   },
   "outputs": [],
   "source": [
    "def f(x):\n",
    "    return x**2"
   ]
  },
  {
   "cell_type": "code",
   "execution_count": 10,
   "metadata": {
    "id": "KYAl2dcBmVKd",
    "outputId": "6fb54f58-c06f-4a69-b62f-053dc036c074"
   },
   "outputs": [
    {
     "data": {
      "text/plain": [
       "0.3333833349999431"
      ]
     },
     "execution_count": 10,
     "metadata": {},
     "output_type": "execute_result"
    }
   ],
   "source": [
    "integral_func(f, lw_limit, up_limit)"
   ]
  },
  {
   "cell_type": "markdown",
   "metadata": {
    "id": "XFtMSdVBmVKd"
   },
   "source": [
    "### This is SciPy package\n",
    "\n",
    "https://docs.scipy.org/doc/scipy/reference/tutorial/integrate.html"
   ]
  },
  {
   "cell_type": "code",
   "execution_count": 11,
   "metadata": {
    "id": "O2tQ08IQmVKe",
    "outputId": "d73d8a00-fd15-4027-e0c2-307b15fa3169"
   },
   "outputs": [
    {
     "data": {
      "text/plain": [
       "0.33333333333333337"
      ]
     },
     "execution_count": 11,
     "metadata": {},
     "output_type": "execute_result"
    }
   ],
   "source": [
    "I = quad(f, lw_limit, up_limit)[0]\n",
    "\n",
    "I"
   ]
  },
  {
   "cell_type": "code",
   "execution_count": 12,
   "metadata": {
    "id": "qpLCUNNImVKe"
   },
   "outputs": [],
   "source": [
    "def area(x):\n",
    "    return 1/3*(x**3)"
   ]
  },
  {
   "cell_type": "code",
   "execution_count": 21,
   "metadata": {
    "id": "g4x0XqFnmVKe",
    "outputId": "9847fa8a-eb14-4202-f287-207d2abf161d"
   },
   "outputs": [
    {
     "data": {
      "text/plain": [
       "0.3333333333333333"
      ]
     },
     "execution_count": 21,
     "metadata": {},
     "output_type": "execute_result"
    }
   ],
   "source": [
    "area_undercurve = area(up_limit) - area(lw_limit)\n",
    "\n",
    "area_undercurve"
   ]
  },
  {
   "cell_type": "markdown",
   "metadata": {
    "id": "gCvhAg0bmVKf"
   },
   "source": [
    "### Lets take a constant function:\n",
    "\n",
    "f(x) = 15"
   ]
  },
  {
   "cell_type": "code",
   "execution_count": 22,
   "metadata": {
    "id": "43CH5M6tmVKf"
   },
   "outputs": [],
   "source": [
    "@np.vectorize\n",
    "def const_func(t):\n",
    "    \n",
    "    return 15"
   ]
  },
  {
   "cell_type": "markdown",
   "metadata": {
    "id": "Enw3nr6vmVKf"
   },
   "source": [
    "#### Lets integrate this constant funtion from:\n",
    "\n",
    "0 to 5\n",
    "\n",
    "0 to 10\n",
    "\n",
    "-10 to 5"
   ]
  },
  {
   "cell_type": "code",
   "execution_count": 23,
   "metadata": {
    "id": "V3MBGyR_mVKf",
    "outputId": "18f90e0d-9d16-4cb8-e42c-dbae75564fe9"
   },
   "outputs": [
    {
     "data": {
      "text/plain": [
       "74.99999999995067"
      ]
     },
     "execution_count": 23,
     "metadata": {},
     "output_type": "execute_result"
    }
   ],
   "source": [
    "integral_func(const_func, 0, 5)"
   ]
  },
  {
   "cell_type": "code",
   "execution_count": 24,
   "metadata": {
    "id": "YBQ9j-AImVKg",
    "outputId": "642bf633-04f4-4cba-8d85-5ffa4c735e8f"
   },
   "outputs": [
    {
     "data": {
      "text/plain": [
       "150.00149999959825"
      ]
     },
     "execution_count": 24,
     "metadata": {},
     "output_type": "execute_result"
    }
   ],
   "source": [
    "integral_func(const_func, 0, 10)"
   ]
  },
  {
   "cell_type": "code",
   "execution_count": 25,
   "metadata": {
    "id": "fV1QulikmVKg",
    "outputId": "279a1584-6b80-44a9-a620-765fe1a05436"
   },
   "outputs": [
    {
     "data": {
      "text/plain": [
       "225.00149999924582"
      ]
     },
     "execution_count": 25,
     "metadata": {},
     "output_type": "execute_result"
    }
   ],
   "source": [
    "integral_func(const_func, -10, 5)"
   ]
  },
  {
   "cell_type": "markdown",
   "metadata": {
    "id": "_4R2U3qPmVKg"
   },
   "source": [
    "### This is SciPy package\n",
    "\n",
    "https://docs.scipy.org/doc/scipy/reference/tutorial/integrate.html"
   ]
  },
  {
   "cell_type": "code",
   "execution_count": 26,
   "metadata": {
    "id": "IW1q6OWemVKg",
    "outputId": "1548649c-db0c-4eae-aa2c-be69d34e34e4"
   },
   "outputs": [
    {
     "data": {
      "text/plain": [
       "75.00000000000001"
      ]
     },
     "execution_count": 26,
     "metadata": {},
     "output_type": "execute_result"
    }
   ],
   "source": [
    "I = quad(const_func, 0, 5)[0]\n",
    "I"
   ]
  },
  {
   "cell_type": "code",
   "execution_count": 27,
   "metadata": {
    "id": "eDUBocFtmVKh",
    "outputId": "0ba01c50-a96a-401d-e78c-1358c066e854"
   },
   "outputs": [
    {
     "data": {
      "text/plain": [
       "150.00000000000003"
      ]
     },
     "execution_count": 27,
     "metadata": {},
     "output_type": "execute_result"
    }
   ],
   "source": [
    "I = quad(const_func, 0, 10)[0]\n",
    "I"
   ]
  },
  {
   "cell_type": "code",
   "execution_count": 28,
   "metadata": {
    "id": "bTO8EyDQmVKh",
    "outputId": "06770b17-0d25-4613-8595-28564e777559"
   },
   "outputs": [
    {
     "data": {
      "text/plain": [
       "225.00000000000003"
      ]
     },
     "execution_count": 28,
     "metadata": {},
     "output_type": "execute_result"
    }
   ],
   "source": [
    "I = quad(const_func, -10, 5)[0]\n",
    "I"
   ]
  },
  {
   "cell_type": "markdown",
   "metadata": {
    "id": "qOxnTydcmVKh"
   },
   "source": [
    "### Plotting function and calculation area between lower and upper limit which gives integral of given function or area under curve"
   ]
  },
  {
   "cell_type": "code",
   "execution_count": 29,
   "metadata": {
    "id": "zWaS_jYimVKi"
   },
   "outputs": [],
   "source": [
    "t = np.linspace(-20, 20, 1000)"
   ]
  },
  {
   "cell_type": "code",
   "execution_count": 30,
   "metadata": {
    "id": "sSEbo5WimVKi",
    "outputId": "b87dee7e-df08-40d1-89ad-2dc1c280d0ff"
   },
   "outputs": [
    {
     "data": {
      "image/png": "[encoded data removed]",
      "text/plain": [
       "<Figure size 1008x576 with 1 Axes>"
      ]
     },
     "metadata": {
      "needs_background": "light"
     },
     "output_type": "display_data"
    }
   ],
   "source": [
    "plt.figure(figsize=(14, 8))\n",
    "\n",
    "plt.plot(t, const_func(t), \n",
    "         color='green',\n",
    "         lw=3,\n",
    "         label='Constant function')\n",
    "\n",
    "plt.legend(loc='upper left')\n",
    "plt.grid(True)"
   ]
  },
  {
   "cell_type": "markdown",
   "metadata": {
    "id": "aIQXo0pOmVKi"
   },
   "source": [
    "### Graphically area under curve/line for integration"
   ]
  },
  {
   "cell_type": "code",
   "execution_count": 32,
   "metadata": {
    "id": "EJXQy1WHmVKi"
   },
   "outputs": [],
   "source": [
    "lower_limit = 0\n",
    "upper_limit = 5"
   ]
  },
  {
   "cell_type": "code",
   "execution_count": 33,
   "metadata": {
    "id": "_8v1noTmmVKj",
    "outputId": "288f809d-f979-45c8-c6c8-5a979cb12a17",
    "scrolled": false
   },
   "outputs": [
    {
     "data": {
      "image/png": "[encoded data removed]",
      "text/plain": [
       "<Figure size 1008x576 with 1 Axes>"
      ]
     },
     "metadata": {
      "needs_background": "light"
     },
     "output_type": "display_data"
    }
   ],
   "source": [
    "plt.figure(figsize=(14, 8))\n",
    "\n",
    "plt.plot(t, const_func(t), \n",
    "         color='green',\n",
    "         lw=3,\n",
    "         label='Constant function')\n",
    "\n",
    "\n",
    "plt.fill_between(t, const_func(t), \n",
    "                 color = 'blue',\n",
    "                 alpha = .5, \n",
    "                 where=(t >= lower_limit ) & (t <=upper_limit))\n",
    "\n",
    "\n",
    "plt.gca().spines['left'].set_position('zero',) \n",
    "plt.gca().spines['bottom'].set_position('zero',)\n",
    "\n",
    "plt.legend(loc='center left')\n",
    "plt.grid(True)"
   ]
  },
  {
   "cell_type": "code",
   "execution_count": 34,
   "metadata": {
    "id": "4O01NXlXmVKj"
   },
   "outputs": [],
   "source": [
    "lower_limit = -10\n",
    "upper_limit = 5"
   ]
  },
  {
   "cell_type": "code",
   "execution_count": 35,
   "metadata": {
    "id": "n_G5fxmAmVKj",
    "outputId": "47707ce0-d6f5-4d39-b780-593161691eb9",
    "scrolled": false
   },
   "outputs": [
    {
     "data": {
      "image/png": "[encoded data removed]",
      "text/plain": [
       "<Figure size 1008x576 with 1 Axes>"
      ]
     },
     "metadata": {
      "needs_background": "light"
     },
     "output_type": "display_data"
    }
   ],
   "source": [
    "plt.figure(figsize=(14, 8))\n",
    "\n",
    "plt.plot(t, const_func(t), \n",
    "         color='green',\n",
    "         lw=3,\n",
    "         label='Constant function')\n",
    "\n",
    "\n",
    "plt.fill_between(t, const_func(t), \n",
    "                 color = 'blue',\n",
    "                 alpha = .5, \n",
    "                 where=(t >= lower_limit ) & (t <=upper_limit))\n",
    "\n",
    "\n",
    "plt.gca().spines['left'].set_position('zero',) \n",
    "plt.gca().spines['bottom'].set_position('zero',)\n",
    "\n",
    "plt.legend(loc='center left')\n",
    "plt.grid(True)"
   ]
  },
  {
   "cell_type": "markdown",
   "metadata": {
    "id": "MWF1kJGtmVKk"
   },
   "source": [
    "#### Lets take another function\n",
    "\n",
    "f(x) = mx +c, \n",
    "\n",
    "where, m,c = 5, 2"
   ]
  },
  {
   "cell_type": "code",
   "execution_count": 36,
   "metadata": {
    "id": "wjOdKf8tmVKk"
   },
   "outputs": [],
   "source": [
    "lower_limit = 5\n",
    "upper_limit = 15"
   ]
  },
  {
   "cell_type": "code",
   "execution_count": 37,
   "metadata": {
    "id": "Yi0vHY-HmVKk"
   },
   "outputs": [],
   "source": [
    "def func(x):\n",
    "    \n",
    "    return 5*x + 2"
   ]
  },
  {
   "cell_type": "code",
   "execution_count": 38,
   "metadata": {
    "id": "2PsPguwrmVKk",
    "outputId": "7becd4b3-35b1-4ba0-97f1-11426fb1b995",
    "scrolled": false
   },
   "outputs": [
    {
     "data": {
      "text/plain": [
       "520.0051999994173"
      ]
     },
     "execution_count": 38,
     "metadata": {},
     "output_type": "execute_result"
    }
   ],
   "source": [
    "integral_func(func, lower_limit, upper_limit)"
   ]
  },
  {
   "cell_type": "markdown",
   "metadata": {
    "id": "jioKRpjRmVKl"
   },
   "source": [
    "### This is SciPy package\n",
    "\n",
    "https://docs.scipy.org/doc/scipy/reference/tutorial/integrate.html"
   ]
  },
  {
   "cell_type": "code",
   "execution_count": 39,
   "metadata": {
    "id": "dvjvrWn3mVKl",
    "outputId": "071dfa7b-d960-4aaf-d56c-b56517c28008"
   },
   "outputs": [
    {
     "data": {
      "text/plain": [
       "519.9999999999999"
      ]
     },
     "execution_count": 39,
     "metadata": {},
     "output_type": "execute_result"
    }
   ],
   "source": [
    "I = quad(func, lower_limit, upper_limit)[0]\n",
    "I"
   ]
  },
  {
   "cell_type": "code",
   "execution_count": 40,
   "metadata": {
    "id": "ZpNn0_LUmVKl",
    "outputId": "058ff21b-d497-4ecd-dba0-09d11bff46dc",
    "scrolled": false
   },
   "outputs": [
    {
     "data": {
      "image/png": "[encoded data removed]",
      "text/plain": [
       "<Figure size 1008x576 with 1 Axes>"
      ]
     },
     "metadata": {
      "needs_background": "light"
     },
     "output_type": "display_data"
    }
   ],
   "source": [
    "plt.figure(figsize=(14, 8))\n",
    "\n",
    "plt.plot(t, func(t), \n",
    "         color='green',\n",
    "         lw=3,\n",
    "         label='f(x) = 5x+2')\n",
    "\n",
    "plt.legend(loc='center left')\n",
    "plt.grid(True)"
   ]
  },
  {
   "cell_type": "code",
   "execution_count": 42,
   "metadata": {
    "id": "DWM9lkVXmVKl",
    "outputId": "3ebaae03-d094-4d69-d857-df1bc570a0d2",
    "scrolled": false
   },
   "outputs": [
    {
     "data": {
      "image/png": "[encoded data removed]",
      "text/plain": [
       "<Figure size 1008x576 with 1 Axes>"
      ]
     },
     "metadata": {
      "needs_background": "light"
     },
     "output_type": "display_data"
    }
   ],
   "source": [
    "plt.figure(figsize=(14, 8))\n",
    "\n",
    "plt.plot(t, func(t), \n",
    "         color='green',\n",
    "         lw=3,\n",
    "         label='f(x) = 5x+2')\n",
    "\n",
    "plt.fill_between(t, func(t), \n",
    "                 color = 'blue',\n",
    "                 alpha = .5, \n",
    "                 where=(t >= lower_limit ) & (t <=upper_limit))\n",
    "\n",
    "plt.gca().spines['left'].set_position('zero',) \n",
    "plt.gca().spines['bottom'].set_position('zero',)\n",
    "\n",
    "plt.legend(loc='upper left')\n",
    "plt.grid(True)"
   ]
  },
  {
   "cell_type": "code",
   "execution_count": 43,
   "metadata": {
    "id": "iayC1ZOJmVKm"
   },
   "outputs": [],
   "source": [
    "lower_limit = -5\n",
    "upper_limit = 5"
   ]
  },
  {
   "cell_type": "code",
   "execution_count": 44,
   "metadata": {
    "id": "SCQjXJjMmVKm",
    "outputId": "d0c02343-1423-4ed6-ca5e-7fc50842ac37"
   },
   "outputs": [
    {
     "data": {
      "text/plain": [
       "19.99750000008431"
      ]
     },
     "execution_count": 44,
     "metadata": {},
     "output_type": "execute_result"
    }
   ],
   "source": [
    "integral_func(func, lower_limit, upper_limit)"
   ]
  },
  {
   "cell_type": "markdown",
   "metadata": {
    "id": "7NMu04tVmVKn"
   },
   "source": [
    "### This is SciPy package\n",
    "\n",
    "https://docs.scipy.org/doc/scipy/reference/tutorial/integrate.html"
   ]
  },
  {
   "cell_type": "code",
   "execution_count": 45,
   "metadata": {
    "id": "Rw6pTGb4mVKn",
    "outputId": "f449e81a-5bb0-4ff6-b1fc-b74eacbb9a53"
   },
   "outputs": [
    {
     "data": {
      "text/plain": [
       "20.0"
      ]
     },
     "execution_count": 45,
     "metadata": {},
     "output_type": "execute_result"
    }
   ],
   "source": [
    "I = quad(func, lower_limit, upper_limit)[0]\n",
    "I"
   ]
  },
  {
   "cell_type": "code",
   "execution_count": 46,
   "metadata": {
    "id": "aqZAXdLTmVKn",
    "outputId": "06c9d6ac-38a0-4a3f-ae57-dda8b01d1650",
    "scrolled": false
   },
   "outputs": [
    {
     "data": {
      "image/png": "[encoded data removed]",
      "text/plain": [
       "<Figure size 1008x576 with 1 Axes>"
      ]
     },
     "metadata": {
      "needs_background": "light"
     },
     "output_type": "display_data"
    }
   ],
   "source": [
    "plt.figure(figsize=(14, 8))\n",
    "\n",
    "plt.plot(t, func(t), \n",
    "         color='green',\n",
    "         lw=3,\n",
    "         label='f(x)=5x+2')\n",
    "\n",
    "plt.fill_between(t, func(t), \n",
    "                 color = 'blue',\n",
    "                 alpha = .5, \n",
    "                 where=(t >= lower_limit ) & (t <=upper_limit))\n",
    "\n",
    "plt.gca().spines['left'].set_position('zero',) \n",
    "plt.gca().spines['bottom'].set_position('zero',)\n",
    "\n",
    "plt.legend(loc='upper left')\n",
    "plt.grid(True)"
   ]
  },
  {
   "cell_type": "markdown",
   "metadata": {
    "id": "-JkEphbUmVKo"
   },
   "source": [
    "### Area under curve for \n",
    "\n",
    "- y = x^2"
   ]
  },
  {
   "cell_type": "code",
   "execution_count": 47,
   "metadata": {
    "id": "364LMHlumVKo"
   },
   "outputs": [],
   "source": [
    "def func(x):\n",
    "    return x**2"
   ]
  },
  {
   "cell_type": "code",
   "execution_count": 48,
   "metadata": {
    "id": "eGqYZdNDmVKo"
   },
   "outputs": [],
   "source": [
    "lower_limit = 10\n",
    "upper_limit = 18"
   ]
  },
  {
   "cell_type": "code",
   "execution_count": 49,
   "metadata": {
    "id": "EZYeyZ7AmVKo",
    "outputId": "f148e196-edf5-4c81-8dd1-e82c5f185187"
   },
   "outputs": [
    {
     "data": {
      "text/plain": [
       "1610.6878666777216"
      ]
     },
     "execution_count": 49,
     "metadata": {},
     "output_type": "execute_result"
    }
   ],
   "source": [
    "integral_func(func, lower_limit, upper_limit)"
   ]
  },
  {
   "cell_type": "markdown",
   "metadata": {
    "id": "cQEqYpYkmVKo"
   },
   "source": [
    "### This is SciPy package\n",
    "\n",
    "https://docs.scipy.org/doc/scipy/reference/tutorial/integrate.html"
   ]
  },
  {
   "cell_type": "code",
   "execution_count": 50,
   "metadata": {
    "id": "0ry2rRbvmVKp",
    "outputId": "a38bc311-186c-4822-d936-70155232b74a"
   },
   "outputs": [
    {
     "data": {
      "text/plain": [
       "1610.6666666666667"
      ]
     },
     "execution_count": 50,
     "metadata": {},
     "output_type": "execute_result"
    }
   ],
   "source": [
    "I = quad(func, lower_limit, upper_limit)[0]\n",
    "I"
   ]
  },
  {
   "cell_type": "code",
   "execution_count": 51,
   "metadata": {
    "id": "FRSpQnppmVKp",
    "outputId": "a8dee6c7-f576-49ec-9216-5681a24843b7"
   },
   "outputs": [
    {
     "data": {
      "image/png": "[encoded data removed]",
      "text/plain": [
       "<Figure size 1008x576 with 1 Axes>"
      ]
     },
     "metadata": {
      "needs_background": "light"
     },
     "output_type": "display_data"
    }
   ],
   "source": [
    "plt.figure(figsize=(14, 8))\n",
    "\n",
    "plt.plot(t, func(t), \n",
    "         color='green',\n",
    "         lw=3,\n",
    "         label=r'$f(x)=x^2$')\n",
    "\n",
    "plt.fill_between(t, func(t),\n",
    "                 color = 'blue',alpha = .5,\n",
    "                where=(t >= lower_limit ) & (t <=upper_limit))\n",
    "\n",
    "plt.gca().spines['left'].set_position('zero',) \n",
    "plt.gca().spines['bottom'].set_position('zero',)\n",
    "\n",
    "plt.legend(loc='upper center')\n",
    "plt.grid(True)"
   ]
  },
  {
   "cell_type": "markdown",
   "metadata": {
    "id": "rSufe5WymVKp"
   },
   "source": [
    "#### Lets take another function\n",
    "\n",
    "f(x) = x^3 \n"
   ]
  },
  {
   "cell_type": "code",
   "execution_count": 52,
   "metadata": {
    "id": "-fB9PVa9mVKp"
   },
   "outputs": [],
   "source": [
    "lower_limit = -10\n",
    "upper_limit = 10"
   ]
  },
  {
   "cell_type": "code",
   "execution_count": 53,
   "metadata": {
    "id": "Q83sflwmmVKq"
   },
   "outputs": [],
   "source": [
    "def func(x):\n",
    "    \n",
    "    return x**3"
   ]
  },
  {
   "cell_type": "code",
   "execution_count": 54,
   "metadata": {
    "id": "aHyrhvp3mVKq",
    "outputId": "9fa10439-d965-426a-f12a-1f8f5be2e3b5",
    "scrolled": false
   },
   "outputs": [
    {
     "data": {
      "text/plain": [
       "-1.996550162697286e-08"
      ]
     },
     "execution_count": 54,
     "metadata": {},
     "output_type": "execute_result"
    }
   ],
   "source": [
    "integral_func(func, lower_limit, upper_limit)"
   ]
  },
  {
   "cell_type": "markdown",
   "metadata": {
    "id": "liHdkO7RmVKq"
   },
   "source": [
    "### This is SciPy package\n",
    "\n",
    "https://docs.scipy.org/doc/scipy/reference/tutorial/integrate.html"
   ]
  },
  {
   "cell_type": "code",
   "execution_count": 55,
   "metadata": {
    "id": "C3Q8lC8emVKq",
    "outputId": "976e41c4-d03e-4b01-de8f-1e51e1ebc59c"
   },
   "outputs": [
    {
     "data": {
      "text/plain": [
       "0.0"
      ]
     },
     "execution_count": 55,
     "metadata": {},
     "output_type": "execute_result"
    }
   ],
   "source": [
    "I = quad(func, lower_limit, upper_limit)[0]\n",
    "I"
   ]
  },
  {
   "cell_type": "code",
   "execution_count": 56,
   "metadata": {
    "id": "eWgPRUFKmVKr",
    "outputId": "f1de7a32-10af-4fbd-e520-f7a242a6ce23",
    "scrolled": false
   },
   "outputs": [
    {
     "data": {
      "image/png": "[encoded data removed]",
      "text/plain": [
       "<Figure size 1008x576 with 1 Axes>"
      ]
     },
     "metadata": {
      "needs_background": "light"
     },
     "output_type": "display_data"
    }
   ],
   "source": [
    "plt.figure(figsize=(14, 8))\n",
    "\n",
    "plt.plot(t, func(t), \n",
    "         color='green',\n",
    "         lw=3,\n",
    "         label=r'$f(x)=x^3$')\n",
    "\n",
    "plt.legend(loc='center left')\n",
    "plt.grid(True)"
   ]
  },
  {
   "cell_type": "code",
   "execution_count": 57,
   "metadata": {
    "id": "uY9bsd1_mVKr",
    "outputId": "3e6faa2c-1d48-49ce-9cd5-c564964f1b7f",
    "scrolled": false
   },
   "outputs": [
    {
     "data": {
      "image/png": "[encoded data removed]",
      "text/plain": [
       "<Figure size 1008x576 with 1 Axes>"
      ]
     },
     "metadata": {
      "needs_background": "light"
     },
     "output_type": "display_data"
    }
   ],
   "source": [
    "plt.figure(figsize=(14, 8))\n",
    "\n",
    "plt.plot(t, func(t), \n",
    "         color='green',\n",
    "         lw=3,\n",
    "         label=r'$f(x)=x^3$')\n",
    "\n",
    "plt.fill_between(t, func(t),\n",
    "                 color = 'blue',alpha = .5,\n",
    "                 where=(t >= lower_limit ) & (t <=upper_limit))\n",
    "\n",
    "plt.gca().spines['left'].set_position('zero',) \n",
    "plt.gca().spines['bottom'].set_position('zero',)\n",
    "\n",
    "plt.legend(loc='upper left')\n",
    "plt.grid(True)"
   ]
  },
  {
   "cell_type": "markdown",
   "metadata": {
    "id": "QVbHOhiZmVKr"
   },
   "source": [
    "### Area under curve for \n",
    "\n",
    "- y = sin(x)"
   ]
  },
  {
   "cell_type": "code",
   "execution_count": 58,
   "metadata": {
    "id": "cTNSiF-RmVKr"
   },
   "outputs": [],
   "source": [
    "t = np.linspace(-np.pi, np.pi, 1000)"
   ]
  },
  {
   "cell_type": "code",
   "execution_count": 59,
   "metadata": {
    "id": "d0G_hBLvmVKs"
   },
   "outputs": [],
   "source": [
    "def func(x):\n",
    "    return np.sin(x)"
   ]
  },
  {
   "cell_type": "code",
   "execution_count": 60,
   "metadata": {
    "id": "zUdF65vlmVKs"
   },
   "outputs": [],
   "source": [
    "lower_limit = 0\n",
    "upper_limit = np.pi"
   ]
  },
  {
   "cell_type": "code",
   "execution_count": 61,
   "metadata": {
    "id": "N1on7ql3mVKs",
    "outputId": "6b47503e-d131-4083-ffac-37f71e155799"
   },
   "outputs": [
    {
     "data": {
      "text/plain": [
       "1.9999999986725736"
      ]
     },
     "execution_count": 61,
     "metadata": {},
     "output_type": "execute_result"
    }
   ],
   "source": [
    "integral_func(func, lower_limit, upper_limit)"
   ]
  },
  {
   "cell_type": "markdown",
   "metadata": {
    "id": "n3bHqw4HmVKs"
   },
   "source": [
    "### This is SciPy package\n",
    "\n",
    "https://docs.scipy.org/doc/scipy/reference/tutorial/integrate.html"
   ]
  },
  {
   "cell_type": "code",
   "execution_count": 63,
   "metadata": {
    "id": "8dUw1vqhmVKs",
    "outputId": "46dd5b06-076e-4ac0-b859-c3c41c31aa77"
   },
   "outputs": [
    {
     "data": {
      "text/plain": [
       "2.0"
      ]
     },
     "execution_count": 63,
     "metadata": {},
     "output_type": "execute_result"
    }
   ],
   "source": [
    "I = quad(func, lower_limit, upper_limit)[0]\n",
    "I"
   ]
  },
  {
   "cell_type": "code",
   "execution_count": 64,
   "metadata": {
    "id": "tlZSXCdsmVKt",
    "outputId": "9b6aa46c-00f4-46a6-fed3-31abc1429338"
   },
   "outputs": [
    {
     "data": {
      "image/png": "[encoded data removed]",
      "text/plain": [
       "<Figure size 1008x576 with 1 Axes>"
      ]
     },
     "metadata": {
      "needs_background": "light"
     },
     "output_type": "display_data"
    }
   ],
   "source": [
    "plt.figure(figsize=(14, 8))\n",
    "\n",
    "plt.plot(t, func(t), \n",
    "         color='green',\n",
    "         lw=3,\n",
    "         label=r'$f(x)=sin(x)$')\n",
    "\n",
    "plt.fill_between(t, func(t),\n",
    "                 where=(t >= lower_limit ) & (t <=upper_limit),\n",
    "                 color = 'blue',alpha = .5, )\n",
    "\n",
    "plt.gca().spines['left'].set_position('zero',) \n",
    "plt.gca().spines['bottom'].set_position('zero',)\n",
    "\n",
    "plt.legend(loc='upper left')\n",
    "plt.grid(True)"
   ]
  },
  {
   "cell_type": "code",
   "execution_count": 65,
   "metadata": {
    "id": "3Oa0i3gxmVKt"
   },
   "outputs": [],
   "source": [
    "lower_limit = -np.pi/2\n",
    "upper_limit = np.pi/2"
   ]
  },
  {
   "cell_type": "code",
   "execution_count": 66,
   "metadata": {
    "id": "ewIWmsfYmVKt",
    "outputId": "4e9b06e4-e5ff-4bdf-93fd-607036f687e9"
   },
   "outputs": [
    {
     "data": {
      "text/plain": [
       "-9.265359011757615e-05"
      ]
     },
     "execution_count": 66,
     "metadata": {},
     "output_type": "execute_result"
    }
   ],
   "source": [
    "integral_func(func, lower_limit, upper_limit)"
   ]
  },
  {
   "cell_type": "markdown",
   "metadata": {
    "id": "MxkSRrB0mVKt"
   },
   "source": [
    "### This is SciPy package\n",
    "\n",
    "https://docs.scipy.org/doc/scipy/reference/tutorial/integrate.html"
   ]
  },
  {
   "cell_type": "code",
   "execution_count": 68,
   "metadata": {
    "id": "iej9TYCkmVKt",
    "outputId": "7e8ce141-d73a-4e8d-9e80-f51b392be9d7"
   },
   "outputs": [
    {
     "data": {
      "text/plain": [
       "0.0"
      ]
     },
     "execution_count": 68,
     "metadata": {},
     "output_type": "execute_result"
    }
   ],
   "source": [
    "I = quad(func, lower_limit, upper_limit)[0]\n",
    "I"
   ]
  },
  {
   "cell_type": "code",
   "execution_count": 70,
   "metadata": {
    "id": "eINkAWLQmVKu",
    "outputId": "55e89d2b-d674-4d67-c43d-eb2b66fee3f8"
   },
   "outputs": [
    {
     "data": {
      "image/png": "[encoded data removed]",
      "text/plain": [
       "<Figure size 1008x576 with 1 Axes>"
      ]
     },
     "metadata": {
      "needs_background": "light"
     },
     "output_type": "display_data"
    }
   ],
   "source": [
    "plt.figure(figsize=(14, 8))\n",
    "\n",
    "plt.plot(t, func(t), \n",
    "         color='green',\n",
    "         lw=3,\n",
    "         label=r'$f(x)=sin(x)$')\n",
    "\n",
    "plt.fill_between(t, func(t),\n",
    "                 where=(t >= lower_limit ) & (t <=upper_limit),\n",
    "                 color = 'blue',alpha = .5, )\n",
    "\n",
    "plt.gca().spines['left'].set_position('zero',) \n",
    "plt.gca().spines['bottom'].set_position('zero',)\n",
    "\n",
    "plt.legend(loc='upper left')\n",
    "plt.grid(True)"
   ]
  },
  {
   "cell_type": "markdown",
   "metadata": {
    "id": "aeSTTRlkmVKu"
   },
   "source": [
    "### Area under curve for \n",
    "\n",
    "- y = cos(x)"
   ]
  },
  {
   "cell_type": "code",
   "execution_count": 71,
   "metadata": {
    "id": "LU6bTJbsmVKu"
   },
   "outputs": [],
   "source": [
    "t = np.linspace(-np.pi, np.pi, 1000)"
   ]
  },
  {
   "cell_type": "code",
   "execution_count": 72,
   "metadata": {
    "id": "tEWHpbmFmVKu"
   },
   "outputs": [],
   "source": [
    "def func(x):\n",
    "    return np.cos(x)"
   ]
  },
  {
   "cell_type": "code",
   "execution_count": 73,
   "metadata": {
    "id": "JM7_s-lcmVKv"
   },
   "outputs": [],
   "source": [
    "lower_limit = 0\n",
    "upper_limit = np.pi"
   ]
  },
  {
   "cell_type": "code",
   "execution_count": 74,
   "metadata": {
    "id": "7OtsCiO7mVKv",
    "outputId": "96ac2f50-4985-49d0-afe9-85c14dec8691"
   },
   "outputs": [
    {
     "data": {
      "text/plain": [
       "9.265358959492369e-05"
      ]
     },
     "execution_count": 74,
     "metadata": {},
     "output_type": "execute_result"
    }
   ],
   "source": [
    "integral_func(func, lower_limit, upper_limit)"
   ]
  },
  {
   "cell_type": "markdown",
   "metadata": {
    "id": "Os70J2ADmVKv"
   },
   "source": [
    "### This is SciPy package\n",
    "\n",
    "https://docs.scipy.org/doc/scipy/reference/tutorial/integrate.html"
   ]
  },
  {
   "cell_type": "code",
   "execution_count": 75,
   "metadata": {
    "id": "jU25zBf-mVKv",
    "outputId": "9892c25d-5143-47a8-d5a3-8f7e037f067f"
   },
   "outputs": [
    {
     "data": {
      "text/plain": [
       "4.402786869117102e-17"
      ]
     },
     "execution_count": 75,
     "metadata": {},
     "output_type": "execute_result"
    }
   ],
   "source": [
    "I = quad(func, lower_limit, upper_limit)[0]\n",
    "I"
   ]
  },
  {
   "cell_type": "code",
   "execution_count": 76,
   "metadata": {
    "id": "00KO4VESmVKw",
    "outputId": "c4469a4f-6433-473e-8ee5-e0e991086e55"
   },
   "outputs": [
    {
     "data": {
      "image/png": "[encoded data removed]",
      "text/plain": [
       "<Figure size 1008x576 with 1 Axes>"
      ]
     },
     "metadata": {
      "needs_background": "light"
     },
     "output_type": "display_data"
    }
   ],
   "source": [
    "plt.figure(figsize=(14, 8))\n",
    "\n",
    "plt.plot(t, func(t), \n",
    "         color='green',\n",
    "         lw=3,\n",
    "         label=r'$f(x)=cos(x)$')\n",
    "\n",
    "\n",
    "plt.fill_between(t, func(t),\n",
    "                 where=(t >= lower_limit ) & (t <=upper_limit),\n",
    "                 color = 'blue',alpha = .5, )\n",
    "\n",
    "plt.gca().spines['left'].set_position('zero',) \n",
    "plt.gca().spines['bottom'].set_position('zero',)\n",
    "\n",
    "plt.legend(loc='upper left')\n",
    "plt.grid(True)"
   ]
  },
  {
   "cell_type": "markdown",
   "metadata": {
    "id": "bQKjC8aYmVKx"
   },
   "source": [
    "### Area under curve for \n",
    "\n",
    "- y = e^x"
   ]
  },
  {
   "cell_type": "code",
   "execution_count": 78,
   "metadata": {
    "id": "qTBU5pzgmVKy"
   },
   "outputs": [],
   "source": [
    "t = np.linspace(-10, 100, 10000)"
   ]
  },
  {
   "cell_type": "code",
   "execution_count": 79,
   "metadata": {
    "id": "Z4G7zDghmVKy"
   },
   "outputs": [],
   "source": [
    "def func(x):\n",
    "    return np.exp(x)"
   ]
  },
  {
   "cell_type": "code",
   "execution_count": 80,
   "metadata": {
    "id": "Urk0V1YBmVKy"
   },
   "outputs": [],
   "source": [
    "lower_limit = 2.5\n",
    "upper_limit = 5"
   ]
  },
  {
   "cell_type": "code",
   "execution_count": 81,
   "metadata": {
    "id": "tItvOFH2mVKy",
    "outputId": "37daeb7f-24d2-43dc-8663-d85aeb66a5ec"
   },
   "outputs": [
    {
     "data": {
      "text/plain": [
       "136.22385372239515"
      ]
     },
     "execution_count": 81,
     "metadata": {},
     "output_type": "execute_result"
    }
   ],
   "source": [
    "integral_func(func, lower_limit, upper_limit)"
   ]
  },
  {
   "cell_type": "markdown",
   "metadata": {
    "id": "9ackcQKrmVKz"
   },
   "source": [
    "### This is SciPy package\n",
    "\n",
    "https://docs.scipy.org/doc/scipy/reference/tutorial/integrate.html"
   ]
  },
  {
   "cell_type": "code",
   "execution_count": 82,
   "metadata": {
    "id": "LhtdJVhNmVKz",
    "outputId": "960b96a5-a6e0-464f-cdf1-76861e9a83b6"
   },
   "outputs": [
    {
     "data": {
      "text/plain": [
       "136.23066514187312"
      ]
     },
     "execution_count": 82,
     "metadata": {},
     "output_type": "execute_result"
    }
   ],
   "source": [
    "I = quad(func, lower_limit, upper_limit)[0]\n",
    "I"
   ]
  },
  {
   "cell_type": "code",
   "execution_count": 83,
   "metadata": {
    "id": "8kUcTn29mVKz",
    "outputId": "a572a854-e7d2-40f5-e668-29a274dcaaf2"
   },
   "outputs": [
    {
     "data": {
      "image/png": "[encoded data removed]",
      "text/plain": [
       "<Figure size 1008x576 with 1 Axes>"
      ]
     },
     "metadata": {
      "needs_background": "light"
     },
     "output_type": "display_data"
    }
   ],
   "source": [
    "plt.figure(figsize=(14, 8))\n",
    "\n",
    "plt.plot(t, func(t), \n",
    "         color='green',\n",
    "         lw=3,\n",
    "         label=r'$f(x)=e^x$')\n",
    "\n",
    "\n",
    "plt.fill_between(t, func(t),\n",
    "                 where=(t >= lower_limit ) & (t <=upper_limit),\n",
    "                 color = 'blue',alpha = .5, )\n",
    "\n",
    "plt.xlim(-10, 10)\n",
    "plt.ylim(-100, 500)\n",
    "\n",
    "plt.gca().spines['left'].set_position('zero',) \n",
    "plt.gca().spines['bottom'].set_position('zero',)\n",
    "\n",
    "plt.legend(loc='center left')\n",
    "plt.grid(True)"
   ]
  },
  {
   "cell_type": "markdown",
   "metadata": {
    "id": "kZFb4Dn8mVKz"
   },
   "source": [
    "### Area under curve for \n",
    "\n",
    "- y = log10(x)"
   ]
  },
  {
   "cell_type": "code",
   "execution_count": 84,
   "metadata": {
    "id": "AA45LCvMmVK0"
   },
   "outputs": [],
   "source": [
    "t = np.linspace(0.001, 100, 10000)"
   ]
  },
  {
   "cell_type": "code",
   "execution_count": 85,
   "metadata": {
    "id": "dbOknSvmmVK0"
   },
   "outputs": [],
   "source": [
    "def func(x):\n",
    "    return np.log10(x)"
   ]
  },
  {
   "cell_type": "code",
   "execution_count": 86,
   "metadata": {
    "id": "S-u9Q5cmmVK0"
   },
   "outputs": [],
   "source": [
    "lower_limit = 20\n",
    "upper_limit = 60"
   ]
  },
  {
   "cell_type": "code",
   "execution_count": 87,
   "metadata": {
    "id": "fBheqibfmVK0",
    "outputId": "5de5ae4a-0e22-4ced-8ef9-5675468cb7ef"
   },
   "outputs": [
    {
     "data": {
      "text/plain": [
       "63.29667197763856"
      ]
     },
     "execution_count": 87,
     "metadata": {},
     "output_type": "execute_result"
    }
   ],
   "source": [
    "integral_func(func, lower_limit, upper_limit)"
   ]
  },
  {
   "cell_type": "markdown",
   "metadata": {
    "id": "5mN-yp2NmVK0"
   },
   "source": [
    "### This is SciPy package\n",
    "\n",
    "https://docs.scipy.org/doc/scipy/reference/tutorial/integrate.html"
   ]
  },
  {
   "cell_type": "code",
   "execution_count": 88,
   "metadata": {
    "id": "w_6VRDg2mVK1",
    "outputId": "9a727c73-3f13-4625-ae59-f4a6668ede11"
   },
   "outputs": [
    {
     "data": {
      "text/plain": [
       "63.29669583360892"
      ]
     },
     "execution_count": 88,
     "metadata": {},
     "output_type": "execute_result"
    }
   ],
   "source": [
    "I = quad(func, lower_limit, upper_limit)[0]\n",
    "I"
   ]
  },
  {
   "cell_type": "code",
   "execution_count": 89,
   "metadata": {
    "id": "edQGruRKmVK1",
    "outputId": "b06f2eb1-059f-452b-da32-9cd8041f37ba"
   },
   "outputs": [
    {
     "data": {
      "image/png": "[encoded data removed]",
      "text/plain": [
       "<Figure size 1008x576 with 1 Axes>"
      ]
     },
     "metadata": {
      "needs_background": "light"
     },
     "output_type": "display_data"
    }
   ],
   "source": [
    "plt.figure(figsize=(14, 8))\n",
    "\n",
    "plt.plot(t, func(t), \n",
    "         color='green',\n",
    "         lw=3,\n",
    "         label=r'$f(x)=log10(x)$')\n",
    "\n",
    "\n",
    "plt.fill_between(t, func(t),\n",
    "                 where=(t >= lower_limit ) & (t <=upper_limit),\n",
    "                 color = 'blue',alpha = .5, )\n",
    "\n",
    "plt.gca().spines['left'].set_position('zero',) \n",
    "plt.gca().spines['bottom'].set_position('zero',)\n",
    "\n",
    "plt.legend(loc='center right')\n",
    "plt.grid(True)"
   ]
  },
  {
   "cell_type": "markdown",
   "metadata": {
    "id": "LNX6YJQXmVK1"
   },
   "source": [
    "## Using Sympy"
   ]
  },
  {
   "cell_type": "code",
   "execution_count": 90,
   "metadata": {
    "id": "QiuRz8uHmVK1"
   },
   "outputs": [],
   "source": [
    "import sympy as sp"
   ]
  },
  {
   "cell_type": "code",
   "execution_count": 91,
   "metadata": {
    "id": "5n_kyY47mVK1"
   },
   "outputs": [],
   "source": [
    "x = sp.Symbol('x')"
   ]
  },
  {
   "cell_type": "code",
   "execution_count": 92,
   "metadata": {
    "id": "ymQalg-hmVK2"
   },
   "outputs": [],
   "source": [
    "eq = 15"
   ]
  },
  {
   "cell_type": "code",
   "execution_count": 93,
   "metadata": {
    "id": "6EDi6kskmVK2",
    "outputId": "5aa4cad1-8d45-4c08-86f1-776b3a8ea732"
   },
   "outputs": [
    {
     "data": {
      "text/latex": [
       "$\\displaystyle 15 x$"
      ],
      "text/plain": [
       "15*x"
      ]
     },
     "execution_count": 93,
     "metadata": {},
     "output_type": "execute_result"
    }
   ],
   "source": [
    "integrate_eq = sp.integrate(eq, x)\n",
    "\n",
    "integrate_eq"
   ]
  },
  {
   "cell_type": "code",
   "execution_count": 94,
   "metadata": {
    "id": "-B-c98AxmVK2",
    "outputId": "441fdca4-d328-4977-ec00-ad3ecdd56db7"
   },
   "outputs": [
    {
     "data": {
      "text/latex": [
       "$\\displaystyle 75$"
      ],
      "text/plain": [
       "75"
      ]
     },
     "execution_count": 94,
     "metadata": {},
     "output_type": "execute_result"
    }
   ],
   "source": [
    "sp.integrate(eq, (x, 0, 5))"
   ]
  },
  {
   "cell_type": "code",
   "execution_count": 95,
   "metadata": {
    "id": "Gs2SUirmmVK2",
    "outputId": "dec19aaf-bfe1-412c-ecad-8d79f78a843b"
   },
   "outputs": [
    {
     "data": {
      "text/latex": [
       "$\\displaystyle 225$"
      ],
      "text/plain": [
       "225"
      ]
     },
     "execution_count": 95,
     "metadata": {},
     "output_type": "execute_result"
    }
   ],
   "source": [
    "sp.integrate(eq, (x, -10, 5))"
   ]
  },
  {
   "cell_type": "markdown",
   "metadata": {
    "id": "AsQpvscHmVK3"
   },
   "source": [
    "##### And these values are same as we got above"
   ]
  },
  {
   "cell_type": "markdown",
   "metadata": {
    "id": "Ov-cEYbKmVK3"
   },
   "source": [
    "### Using Sympy"
   ]
  },
  {
   "cell_type": "code",
   "execution_count": 96,
   "metadata": {
    "id": "J90Me-e2mVK3",
    "outputId": "79963340-62a4-495c-c410-7397c1d4fd68"
   },
   "outputs": [
    {
     "data": {
      "text/latex": [
       "$\\displaystyle 5 x + 2$"
      ],
      "text/plain": [
       "5*x + 2"
      ]
     },
     "execution_count": 96,
     "metadata": {},
     "output_type": "execute_result"
    }
   ],
   "source": [
    "eq = 5*x + 2\n",
    "\n",
    "eq"
   ]
  },
  {
   "cell_type": "code",
   "execution_count": 97,
   "metadata": {
    "id": "HuU_pMMFmVK3",
    "outputId": "fdf1fc01-e90d-4fb5-cb7d-29678ade2a15"
   },
   "outputs": [
    {
     "data": {
      "text/latex": [
       "$\\displaystyle \\frac{5 x^{2}}{2} + 2 x$"
      ],
      "text/plain": [
       "5*x**2/2 + 2*x"
      ]
     },
     "execution_count": 97,
     "metadata": {},
     "output_type": "execute_result"
    }
   ],
   "source": [
    "integrate_eq = sp.integrate(eq, x)\n",
    "\n",
    "integrate_eq"
   ]
  },
  {
   "cell_type": "code",
   "execution_count": 98,
   "metadata": {
    "id": "9OsgcHIcmVK3",
    "outputId": "a1425cff-bcc4-4104-cba2-9ee5f04f7c6b"
   },
   "outputs": [
    {
     "data": {
      "text/latex": [
       "$\\displaystyle 520$"
      ],
      "text/plain": [
       "520"
      ]
     },
     "execution_count": 98,
     "metadata": {},
     "output_type": "execute_result"
    }
   ],
   "source": [
    "sp.integrate(eq, (x, 5, 15))"
   ]
  },
  {
   "cell_type": "code",
   "execution_count": 99,
   "metadata": {
    "id": "LAsbIXxTmVK4",
    "outputId": "ca3bd440-a5ce-4783-b9ce-c4098d984081"
   },
   "outputs": [
    {
     "data": {
      "text/latex": [
       "$\\displaystyle 20$"
      ],
      "text/plain": [
       "20"
      ]
     },
     "execution_count": 99,
     "metadata": {},
     "output_type": "execute_result"
    }
   ],
   "source": [
    "sp.integrate(eq, (x, -5, 5))"
   ]
  },
  {
   "cell_type": "markdown",
   "metadata": {
    "id": "960W2G7XmVK4"
   },
   "source": [
    "### Poly function"
   ]
  },
  {
   "cell_type": "code",
   "execution_count": 100,
   "metadata": {
    "id": "HeyyGRmcmVK4",
    "outputId": "2f3cd634-4f79-446d-cbd4-da3cfd13c7db"
   },
   "outputs": [
    {
     "data": {
      "text/latex": [
       "$\\displaystyle x^{3} - 2 x + 9$"
      ],
      "text/plain": [
       "x**3 - 2*x + 9"
      ]
     },
     "execution_count": 100,
     "metadata": {},
     "output_type": "execute_result"
    }
   ],
   "source": [
    "poly_eq = x**3 - 2*x + 9\n",
    "\n",
    "poly_eq"
   ]
  },
  {
   "cell_type": "code",
   "execution_count": 101,
   "metadata": {
    "id": "ojeD9flEmVK4",
    "outputId": "7aae8a98-c75f-45fd-b7f1-6fac8f74d2ec"
   },
   "outputs": [
    {
     "data": {
      "text/latex": [
       "$\\displaystyle \\frac{x^{4}}{4} - x^{2} + 9 x$"
      ],
      "text/plain": [
       "x**4/4 - x**2 + 9*x"
      ]
     },
     "execution_count": 101,
     "metadata": {},
     "output_type": "execute_result"
    }
   ],
   "source": [
    "integrate_poly_eq = sp.integrate(poly_eq, x)\n",
    "\n",
    "integrate_poly_eq"
   ]
  },
  {
   "cell_type": "code",
   "execution_count": 102,
   "metadata": {
    "id": "y8_Ivvq0mVK5",
    "outputId": "3ee39905-c0b6-484d-8346-4df05c2749d8"
   },
   "outputs": [
    {
     "data": {
      "text/latex": [
       "$\\displaystyle 948$"
      ],
      "text/plain": [
       "948"
      ]
     },
     "execution_count": 102,
     "metadata": {},
     "output_type": "execute_result"
    }
   ],
   "source": [
    "sp.integrate(poly_eq, (x, 4, 8))"
   ]
  },
  {
   "cell_type": "code",
   "execution_count": 103,
   "metadata": {
    "id": "9XiayjKzmVK5",
    "outputId": "16e3d094-b2fb-4845-aac5-d8f1729c25a9"
   },
   "outputs": [
    {
     "data": {
      "text/latex": [
       "$\\displaystyle 36$"
      ],
      "text/plain": [
       "36"
      ]
     },
     "execution_count": 103,
     "metadata": {},
     "output_type": "execute_result"
    }
   ],
   "source": [
    "sp.integrate(poly_eq, (x, -2, 2))"
   ]
  },
  {
   "cell_type": "code",
   "execution_count": 104,
   "metadata": {
    "id": "Vc5u3qrDmVK5",
    "outputId": "8b5b19f8-2528-44c1-c9bb-c678c5645643"
   },
   "outputs": [
    {
     "data": {
      "text/latex": [
       "$\\displaystyle -12$"
      ],
      "text/plain": [
       "-12"
      ]
     },
     "execution_count": 104,
     "metadata": {},
     "output_type": "execute_result"
    }
   ],
   "source": [
    "sp.integrate(poly_eq, (x, -4, 0))"
   ]
  },
  {
   "cell_type": "markdown",
   "metadata": {
    "id": "EPOliGHzmVK8"
   },
   "source": [
    "### Exponential function"
   ]
  },
  {
   "cell_type": "code",
   "execution_count": 105,
   "metadata": {
    "id": "fkrZD0fcmVK8",
    "outputId": "de7ac9d4-9ae7-4ce1-e855-f51999173b88"
   },
   "outputs": [
    {
     "data": {
      "text/latex": [
       "$\\displaystyle e^{x}$"
      ],
      "text/plain": [
       "exp(x)"
      ]
     },
     "execution_count": 105,
     "metadata": {},
     "output_type": "execute_result"
    }
   ],
   "source": [
    "exp_eq = sp.exp(x)\n",
    "\n",
    "exp_eq"
   ]
  },
  {
   "cell_type": "code",
   "execution_count": 106,
   "metadata": {
    "id": "nbO4lW_HmVK8",
    "outputId": "b0e84054-421c-410c-8c5c-8409f78fff16"
   },
   "outputs": [
    {
     "data": {
      "text/latex": [
       "$\\displaystyle e^{x}$"
      ],
      "text/plain": [
       "exp(x)"
      ]
     },
     "execution_count": 106,
     "metadata": {},
     "output_type": "execute_result"
    }
   ],
   "source": [
    "integrate_exp_eq = sp.integrate(exp_eq, x)\n",
    "\n",
    "integrate_exp_eq"
   ]
  },
  {
   "cell_type": "code",
   "execution_count": 107,
   "metadata": {
    "id": "dKQ5O4gFmVK9"
   },
   "outputs": [],
   "source": [
    "a = sp.Symbol('a')"
   ]
  },
  {
   "cell_type": "code",
   "execution_count": 108,
   "metadata": {
    "id": "YMQksE4FmVK9",
    "outputId": "9a5905e9-9152-4c25-80f6-6726daa3a5d3"
   },
   "outputs": [
    {
     "data": {
      "text/latex": [
       "$\\displaystyle e^{a x}$"
      ],
      "text/plain": [
       "exp(a*x)"
      ]
     },
     "execution_count": 108,
     "metadata": {},
     "output_type": "execute_result"
    }
   ],
   "source": [
    "exp_eq = sp.exp(a*x)\n",
    "\n",
    "exp_eq"
   ]
  },
  {
   "cell_type": "code",
   "execution_count": 109,
   "metadata": {
    "id": "rfXBFSgMmVK9",
    "outputId": "22d5fa77-5e5a-4631-a8a8-5cdd69b939c0"
   },
   "outputs": [
    {
     "data": {
      "text/latex": [
       "$\\displaystyle \\begin{cases} \\frac{e^{a x}}{a} & \\text{for}\\: a \\neq 0 \\\\x & \\text{otherwise} \\end{cases}$"
      ],
      "text/plain": [
       "Piecewise((exp(a*x)/a, Ne(a, 0)), (x, True))"
      ]
     },
     "execution_count": 109,
     "metadata": {},
     "output_type": "execute_result"
    }
   ],
   "source": [
    "integrate_exp_eq = sp.integrate(exp_eq, x)\n",
    "\n",
    "integrate_exp_eq"
   ]
  },
  {
   "cell_type": "markdown",
   "metadata": {
    "id": "Nr8PsCJCmVK9"
   },
   "source": [
    "### Logarithm funtion"
   ]
  },
  {
   "cell_type": "code",
   "execution_count": 110,
   "metadata": {
    "id": "0rpi8wpNmVK9",
    "outputId": "88de871f-cac9-42b9-eba9-11ccb66e16e7"
   },
   "outputs": [
    {
     "data": {
      "text/latex": [
       "$\\displaystyle \\log{\\left(x \\right)}$"
      ],
      "text/plain": [
       "log(x)"
      ]
     },
     "execution_count": 110,
     "metadata": {},
     "output_type": "execute_result"
    }
   ],
   "source": [
    "log_eq = sp.log(x)\n",
    "\n",
    "log_eq"
   ]
  },
  {
   "cell_type": "code",
   "execution_count": 111,
   "metadata": {
    "id": "bst6_nGRmVK-",
    "outputId": "31e5bc96-1b78-4c49-d628-1e19c3b126d0"
   },
   "outputs": [
    {
     "data": {
      "text/latex": [
       "$\\displaystyle x \\log{\\left(x \\right)} - x$"
      ],
      "text/plain": [
       "x*log(x) - x"
      ]
     },
     "execution_count": 111,
     "metadata": {},
     "output_type": "execute_result"
    }
   ],
   "source": [
    "integrate_log_eq = sp.integrate(log_eq, x)\n",
    "\n",
    "integrate_log_eq"
   ]
  },
  {
   "cell_type": "code",
   "execution_count": 112,
   "metadata": {
    "id": "mpKT70XMmVK-",
    "outputId": "ae98ebcd-c0d8-468e-dcd9-104bcf7c4c43"
   },
   "outputs": [
    {
     "data": {
      "text/latex": [
       "$\\displaystyle \\log{\\left(10 x \\right)}$"
      ],
      "text/plain": [
       "log(10*x)"
      ]
     },
     "execution_count": 112,
     "metadata": {},
     "output_type": "execute_result"
    }
   ],
   "source": [
    "log_eq = sp.log(10*x)\n",
    "\n",
    "log_eq"
   ]
  },
  {
   "cell_type": "code",
   "execution_count": 113,
   "metadata": {
    "id": "-G1JnlS3mVK-",
    "outputId": "1117d2a0-003a-4a70-b9df-b3bf83079cc6"
   },
   "outputs": [
    {
     "data": {
      "text/latex": [
       "$\\displaystyle x \\log{\\left(10 x \\right)} - x$"
      ],
      "text/plain": [
       "x*log(10*x) - x"
      ]
     },
     "execution_count": 113,
     "metadata": {},
     "output_type": "execute_result"
    }
   ],
   "source": [
    "integrate_log_eq = sp.integrate(log_eq, x)\n",
    "\n",
    "integrate_log_eq"
   ]
  },
  {
   "cell_type": "code",
   "execution_count": null,
   "metadata": {
    "id": "GolakVMOmVK_"
   },
   "outputs": [],
   "source": []
  },
  {
   "cell_type": "code",
   "execution_count": null,
   "metadata": {
    "id": "A25HxAzTmVK_"
   },
   "outputs": [],
   "source": []
  },
  {
   "cell_type": "code",
   "execution_count": null,
   "metadata": {
    "id": "1TEx_y7wmVK_"
   },
   "outputs": [],
   "source": []
  },
  {
   "cell_type": "code",
   "execution_count": null,
   "metadata": {
    "id": "cG6-jFxfmVK_"
   },
   "outputs": [],
   "source": []
  },
  {
   "cell_type": "code",
   "execution_count": null,
   "metadata": {
    "id": "SmpDZ7JjmVK_"
   },
   "outputs": [],
   "source": []
  },
  {
   "cell_type": "code",
   "execution_count": null,
   "metadata": {
    "id": "BQ7O_NL4mVK_"
   },
   "outputs": [],
   "source": []
  },
  {
   "cell_type": "code",
   "execution_count": null,
   "metadata": {
    "id": "ZssaHDx3mVK_"
   },
   "outputs": [],
   "source": []
  }
 ],
 "metadata": {
  "colab": {
   "name": "demo-11-IntegratingLinearQuadraticAndPolynomialFunctionTrigoExpoAsWellAsLogrithmFunctions.ipynb",
   "provenance": []
  },
  "kernelspec": {
   "display_name": "Python 3",
   "language": "python",
   "name": "python3"
  },
  "language_info": {
   "codemirror_mode": {
    "name": "ipython",
    "version": 3
   },
   "file_extension": ".py",
   "mimetype": "text/x-python",
   "name": "python",
   "nbconvert_exporter": "python",
   "pygments_lexer": "ipython3",
   "version": "3.8.5"
  }
 },
 "nbformat": 4,
 "nbformat_minor": 1
}
