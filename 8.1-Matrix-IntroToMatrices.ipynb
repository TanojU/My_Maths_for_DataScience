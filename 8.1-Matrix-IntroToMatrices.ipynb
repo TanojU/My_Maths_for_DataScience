{
 "cells": [
  {
   "cell_type": "markdown",
   "metadata": {
    "id": "vq-jDHtMMo_5"
   },
   "source": [
    "## Create Matrix using 2-D array and it's Mathematical operations\n",
    "\n",
    "https://www.kdnuggets.com/2018/05/wtf-tensor.html"
   ]
  },
  {
   "cell_type": "code",
   "execution_count": null,
   "metadata": {
    "id": "wIx33yi1Mo_6"
   },
   "outputs": [],
   "source": [
    "import numpy as np"
   ]
  },
  {
   "cell_type": "markdown",
   "metadata": {
    "id": "ZmBmoHKPMo_8"
   },
   "source": [
    "#### Creating a two-dimensional matrix"
   ]
  },
  {
   "cell_type": "code",
   "execution_count": null,
   "metadata": {
    "id": "jirDLwmDMo_8",
    "outputId": "2f98739c-9ee7-43a9-d7d0-7b85d0479544"
   },
   "outputs": [
    {
     "data": {
      "text/plain": [
       "array([[ 1,  2,  3],\n",
       "       [11, 22, 33],\n",
       "       [ 6,  9, 12]])"
      ]
     },
     "execution_count": 2,
     "metadata": {
      "tags": []
     },
     "output_type": "execute_result"
    }
   ],
   "source": [
    "a = np.array([1, 2, 3, 11, 22, 33, 6, 9, 12]).reshape(3, 3)\n",
    "\n",
    "a"
   ]
  },
  {
   "cell_type": "code",
   "execution_count": null,
   "metadata": {
    "id": "hyi7hVCFMo_9",
    "outputId": "069d0906-0e5f-4c56-d370-30cc86d4714a"
   },
   "outputs": [
    {
     "data": {
      "text/plain": [
       "dtype('int64')"
      ]
     },
     "execution_count": 3,
     "metadata": {
      "tags": []
     },
     "output_type": "execute_result"
    }
   ],
   "source": [
    "a.dtype"
   ]
  },
  {
   "cell_type": "code",
   "execution_count": null,
   "metadata": {
    "id": "g5h9JOrfMo_-",
    "outputId": "500b325a-cab2-4fbf-b73c-a89a14290eb1"
   },
   "outputs": [
    {
     "data": {
      "text/plain": [
       "2"
      ]
     },
     "execution_count": 4,
     "metadata": {
      "tags": []
     },
     "output_type": "execute_result"
    }
   ],
   "source": [
    "a.ndim"
   ]
  },
  {
   "cell_type": "code",
   "execution_count": null,
   "metadata": {
    "id": "5N8ObiTDMpAA",
    "outputId": "42cb3db4-d404-49d4-8e97-3d1f4fdc7bb6"
   },
   "outputs": [
    {
     "data": {
      "text/plain": [
       "numpy.ndarray"
      ]
     },
     "execution_count": 5,
     "metadata": {
      "tags": []
     },
     "output_type": "execute_result"
    }
   ],
   "source": [
    "type(a)"
   ]
  },
  {
   "cell_type": "code",
   "execution_count": null,
   "metadata": {
    "id": "r5scQGmPMpAB",
    "outputId": "5c8776c7-0710-420b-90cb-b031c904108f"
   },
   "outputs": [
    {
     "data": {
      "text/plain": [
       "array([[ 0,  2,  4],\n",
       "       [ 6,  8, 10],\n",
       "       [12, 14, 16]])"
      ]
     },
     "execution_count": 6,
     "metadata": {
      "tags": []
     },
     "output_type": "execute_result"
    }
   ],
   "source": [
    "b = np.array([i for i in range(0, 18, 2)]).reshape(3, 3)\n",
    "\n",
    "b"
   ]
  },
  {
   "cell_type": "code",
   "execution_count": null,
   "metadata": {
    "id": "CBzvikC3MpAD",
    "outputId": "7b5d8360-3674-4951-b11f-9d6dfa2672d5"
   },
   "outputs": [
    {
     "data": {
      "text/plain": [
       "array([[0, 1],\n",
       "       [2, 3],\n",
       "       [4, 5]])"
      ]
     },
     "execution_count": 7,
     "metadata": {
      "tags": []
     },
     "output_type": "execute_result"
    }
   ],
   "source": [
    "c = np.array([i for i in range(6)]).reshape(3, 2)\n",
    "\n",
    "c"
   ]
  },
  {
   "cell_type": "markdown",
   "metadata": {
    "id": "aTkSfPyUMpAI"
   },
   "source": [
    "### Adding two matrices"
   ]
  },
  {
   "cell_type": "code",
   "execution_count": null,
   "metadata": {
    "id": "MRtfBIRZMpAL"
   },
   "outputs": [],
   "source": [
    "def add_matrices(A, B):\n",
    "    \n",
    "    add = []\n",
    "    \n",
    "    for i in range(len(A)):\n",
    "        add.append(A[i] + B[i])\n",
    "        \n",
    "    return np.array(add)"
   ]
  },
  {
   "cell_type": "code",
   "execution_count": null,
   "metadata": {
    "id": "jqUyemRrMpAM",
    "outputId": "7a323d88-f2c6-41bd-ec94-5a001ed860e5"
   },
   "outputs": [
    {
     "data": {
      "text/plain": [
       "(3, 3)"
      ]
     },
     "execution_count": 9,
     "metadata": {
      "tags": []
     },
     "output_type": "execute_result"
    }
   ],
   "source": [
    "a.shape"
   ]
  },
  {
   "cell_type": "code",
   "execution_count": null,
   "metadata": {
    "id": "0YvESOGOMpAN",
    "outputId": "9529ab20-07f9-4b24-905d-af726267a125"
   },
   "outputs": [
    {
     "data": {
      "text/plain": [
       "(3, 3)"
      ]
     },
     "execution_count": 10,
     "metadata": {
      "tags": []
     },
     "output_type": "execute_result"
    }
   ],
   "source": [
    "b.shape"
   ]
  },
  {
   "cell_type": "code",
   "execution_count": null,
   "metadata": {
    "id": "GazDCxZiMpAP",
    "outputId": "770d4373-5957-4218-97a1-6f804c14f30e"
   },
   "outputs": [
    {
     "name": "stdout",
     "output_type": "stream",
     "text": [
      "First matrix: \n",
      " [[ 1  2  3]\n",
      " [11 22 33]\n",
      " [ 6  9 12]]\n",
      "\n",
      "Second matrix: \n",
      " [[ 0  2  4]\n",
      " [ 6  8 10]\n",
      " [12 14 16]]\n",
      "\n",
      "Sum: \n",
      " [[ 1  4  7]\n",
      " [17 30 43]\n",
      " [18 23 28]]\n"
     ]
    }
   ],
   "source": [
    "print('First matrix: \\n', a)\n",
    "print('\\nSecond matrix: \\n', b)\n",
    "print('\\nSum: \\n', add_matrices(a, b))"
   ]
  },
  {
   "cell_type": "code",
   "execution_count": null,
   "metadata": {
    "id": "FaLLzYsbMpAR",
    "outputId": "8f51ff0c-6190-453b-d0f9-50bf72abadfb"
   },
   "outputs": [
    {
     "data": {
      "text/plain": [
       "array([[ 1,  4,  7],\n",
       "       [17, 30, 43],\n",
       "       [18, 23, 28]])"
      ]
     },
     "execution_count": 12,
     "metadata": {
      "tags": []
     },
     "output_type": "execute_result"
    }
   ],
   "source": [
    "a + b"
   ]
  },
  {
   "cell_type": "markdown",
   "metadata": {
    "id": "DSCkVGgSMpAT"
   },
   "source": [
    "#### For addition shape should be same of both matrix"
   ]
  },
  {
   "cell_type": "code",
   "execution_count": null,
   "metadata": {
    "id": "-XQbtgQwMpAU",
    "outputId": "42173d5f-892a-4fed-d2ea-1e8e965dfcc0"
   },
   "outputs": [
    {
     "data": {
      "text/plain": [
       "(3, 3)"
      ]
     },
     "execution_count": 13,
     "metadata": {
      "tags": []
     },
     "output_type": "execute_result"
    }
   ],
   "source": [
    "a.shape"
   ]
  },
  {
   "cell_type": "code",
   "execution_count": null,
   "metadata": {
    "id": "hORdJE6XMpAd",
    "outputId": "adecb747-5dd0-4288-b17d-fbda749e5098"
   },
   "outputs": [
    {
     "data": {
      "text/plain": [
       "(3, 2)"
      ]
     },
     "execution_count": 14,
     "metadata": {
      "tags": []
     },
     "output_type": "execute_result"
    }
   ],
   "source": [
    "c.shape"
   ]
  },
  {
   "cell_type": "markdown",
   "metadata": {
    "id": "DAkrVYlLMpAp"
   },
   "source": [
    "##### This will throw an error"
   ]
  },
  {
   "cell_type": "code",
   "execution_count": null,
   "metadata": {
    "id": "uFCrGPrOMpAs",
    "outputId": "4a1cf43e-fb8b-4d8c-ae85-edd317dd28f7"
   },
   "outputs": [
    {
     "ename": "ValueError",
     "evalue": "operands could not be broadcast together with shapes (3,3) (3,2) ",
     "output_type": "error",
     "traceback": [
      "\u001b[0;31m---------------------------------------------------------------------------\u001b[0m",
      "\u001b[0;31mValueError\u001b[0m                                Traceback (most recent call last)",
      "\u001b[0;32m<ipython-input-15-e81e582b6fa9>\u001b[0m in \u001b[0;36m<module>\u001b[0;34m\u001b[0m\n\u001b[0;32m----> 1\u001b[0;31m \u001b[0ma\u001b[0m \u001b[0;34m+\u001b[0m \u001b[0mc\u001b[0m\u001b[0;34m\u001b[0m\u001b[0;34m\u001b[0m\u001b[0m\n\u001b[0m",
      "\u001b[0;31mValueError\u001b[0m: operands could not be broadcast together with shapes (3,3) (3,2) "
     ]
    }
   ],
   "source": [
    "a + c"
   ]
  },
  {
   "cell_type": "markdown",
   "metadata": {
    "id": "1yhVxCpSMpAw"
   },
   "source": [
    "### Subtracting two matrix"
   ]
  },
  {
   "cell_type": "code",
   "execution_count": null,
   "metadata": {
    "id": "sWKBYPzKMpAy"
   },
   "outputs": [],
   "source": [
    "def subtract_matrices(A, B):\n",
    "    \n",
    "    add = []\n",
    "    \n",
    "    for i in range(len(A)):\n",
    "        add.append(A[i] - B[i])\n",
    "        \n",
    "    return np.array(add)"
   ]
  },
  {
   "cell_type": "code",
   "execution_count": null,
   "metadata": {
    "id": "aA3VPCpOMpAz",
    "outputId": "1171d0b5-d4dc-4062-ac5b-d2932e5f8006"
   },
   "outputs": [
    {
     "name": "stdout",
     "output_type": "stream",
     "text": [
      "First matrix: \n",
      " [[ 1  2  3]\n",
      " [11 22 33]\n",
      " [ 6  9 12]]\n",
      "\n",
      "Second matrix: \n",
      " [[ 0  2  4]\n",
      " [ 6  8 10]\n",
      " [12 14 16]]\n",
      "\n",
      "Difference: \n",
      " [[ 1  0 -1]\n",
      " [ 5 14 23]\n",
      " [-6 -5 -4]]\n"
     ]
    }
   ],
   "source": [
    "print('First matrix: \\n', a)\n",
    "print('\\nSecond matrix: \\n', b)\n",
    "print('\\nDifference: \\n', subtract_matrices(a, b))"
   ]
  },
  {
   "cell_type": "code",
   "execution_count": null,
   "metadata": {
    "id": "xGG-MYtxMpA4",
    "outputId": "1bcbd147-84ee-49b8-a8b0-1292225a7d67"
   },
   "outputs": [
    {
     "data": {
      "text/plain": [
       "array([[ 1,  0, -1],\n",
       "       [ 5, 14, 23],\n",
       "       [-6, -5, -4]])"
      ]
     },
     "execution_count": 18,
     "metadata": {
      "tags": []
     },
     "output_type": "execute_result"
    }
   ],
   "source": [
    "a - b"
   ]
  },
  {
   "cell_type": "markdown",
   "metadata": {
    "id": "6N9MFxDbMpA8"
   },
   "source": [
    "#### Matrix multiplication"
   ]
  },
  {
   "cell_type": "code",
   "execution_count": null,
   "metadata": {
    "id": "co7EjWVjMpA8",
    "outputId": "cec62bac-5569-40e2-8f08-c2409df251fb"
   },
   "outputs": [
    {
     "name": "stdout",
     "output_type": "stream",
     "text": [
      "First matrix: \n",
      " [[ 1  2  3]\n",
      " [11 22 33]\n",
      " [ 6  9 12]]\n",
      "\n",
      "Second matrix: \n",
      " [[ 0  2  4]\n",
      " [ 6  8 10]\n",
      " [12 14 16]]\n",
      "\n",
      "Dot: \n",
      " [[ 48  60  72]\n",
      " [528 660 792]\n",
      " [198 252 306]]\n"
     ]
    }
   ],
   "source": [
    "print('First matrix: \\n', a)\n",
    "print('\\nSecond matrix: \\n', b)\n",
    "print('\\nDot: \\n', np.dot(a,b))"
   ]
  },
  {
   "cell_type": "code",
   "execution_count": null,
   "metadata": {
    "id": "yHMbBjUWMpA9",
    "outputId": "6ff41986-3a4e-4102-8de4-7a4921e81bc2"
   },
   "outputs": [
    {
     "data": {
      "text/plain": [
       "array([[ 48,  60,  72],\n",
       "       [528, 660, 792],\n",
       "       [198, 252, 306]])"
      ]
     },
     "execution_count": 20,
     "metadata": {
      "tags": []
     },
     "output_type": "execute_result"
    }
   ],
   "source": [
    "np.matmul(a,b)"
   ]
  },
  {
   "cell_type": "markdown",
   "metadata": {
    "id": "Tf66dciRMpA9"
   },
   "source": [
    "#### Determinant"
   ]
  },
  {
   "cell_type": "code",
   "execution_count": null,
   "metadata": {
    "id": "Dy32EZgtMpA9",
    "outputId": "f7bef82a-874c-43a6-f543-1e8eb18ee18a"
   },
   "outputs": [
    {
     "data": {
      "text/plain": [
       "array([[ 1,  2,  3],\n",
       "       [11, 22, 33],\n",
       "       [ 6,  9, 12]])"
      ]
     },
     "execution_count": 21,
     "metadata": {
      "tags": []
     },
     "output_type": "execute_result"
    }
   ],
   "source": [
    "a"
   ]
  },
  {
   "cell_type": "code",
   "execution_count": null,
   "metadata": {
    "id": "AAdOewTYMpA9",
    "outputId": "135b9dce-9979-4071-b5d3-b954ad450b17"
   },
   "outputs": [
    {
     "data": {
      "text/plain": [
       "-9.15933995315751e-16"
      ]
     },
     "execution_count": 22,
     "metadata": {
      "tags": []
     },
     "output_type": "execute_result"
    }
   ],
   "source": [
    "det_a = np.linalg.det(a)\n",
    "\n",
    "det_a"
   ]
  },
  {
   "cell_type": "code",
   "execution_count": null,
   "metadata": {
    "id": "ZiHAHXarMpA-",
    "outputId": "53a270a6-f6d6-40f3-85e0-8d30124c43b6"
   },
   "outputs": [
    {
     "data": {
      "text/plain": [
       "array([[ 0,  2,  4],\n",
       "       [ 6,  8, 10],\n",
       "       [12, 14, 16]])"
      ]
     },
     "execution_count": 23,
     "metadata": {
      "tags": []
     },
     "output_type": "execute_result"
    }
   ],
   "source": [
    "b"
   ]
  },
  {
   "cell_type": "code",
   "execution_count": null,
   "metadata": {
    "id": "EmlSXS7XMpA-",
    "outputId": "3957b51b-01f7-4a55-be3e-f390ceed3b23"
   },
   "outputs": [
    {
     "data": {
      "text/plain": [
       "0.0"
      ]
     },
     "execution_count": 24,
     "metadata": {
      "tags": []
     },
     "output_type": "execute_result"
    }
   ],
   "source": [
    "det_b = np.linalg.det(b)\n",
    "\n",
    "det_b"
   ]
  },
  {
   "cell_type": "markdown",
   "metadata": {
    "id": "GPvAXgA3MpA-"
   },
   "source": [
    "#### Transpose of matrix\n",
    "\n",
    "If the rows and columns in a matrix are interchanged, the new matrix is called the transpose of the original matrix"
   ]
  },
  {
   "cell_type": "code",
   "execution_count": null,
   "metadata": {
    "id": "NFS1B9JpMpA_",
    "outputId": "df7e78fa-45e3-4b26-b570-517bff022fa6"
   },
   "outputs": [
    {
     "data": {
      "text/plain": [
       "array([[ 1,  2,  3],\n",
       "       [11, 22, 33],\n",
       "       [ 6,  9, 12]])"
      ]
     },
     "execution_count": 25,
     "metadata": {
      "tags": []
     },
     "output_type": "execute_result"
    }
   ],
   "source": [
    "a"
   ]
  },
  {
   "cell_type": "code",
   "execution_count": null,
   "metadata": {
    "id": "w3-ukDGCMpBD",
    "outputId": "5dcd0a44-f0a3-4749-ccca-0b05b97d33ad"
   },
   "outputs": [
    {
     "data": {
      "text/plain": [
       "array([[ 1, 11,  6],\n",
       "       [ 2, 22,  9],\n",
       "       [ 3, 33, 12]])"
      ]
     },
     "execution_count": 26,
     "metadata": {
      "tags": []
     },
     "output_type": "execute_result"
    }
   ],
   "source": [
    "a.T"
   ]
  },
  {
   "cell_type": "code",
   "execution_count": null,
   "metadata": {
    "id": "nWczDPFEMpBD",
    "outputId": "555ac9f8-3972-4ac8-9ef3-5a58e05930b5"
   },
   "outputs": [
    {
     "data": {
      "text/plain": [
       "array([[ 1, 11,  6],\n",
       "       [ 2, 22,  9],\n",
       "       [ 3, 33, 12]])"
      ]
     },
     "execution_count": 27,
     "metadata": {
      "tags": []
     },
     "output_type": "execute_result"
    }
   ],
   "source": [
    "np.transpose(a)"
   ]
  },
  {
   "cell_type": "markdown",
   "metadata": {
    "id": "dJYWCoRSMpBD"
   },
   "source": [
    "#### Trace of matrix\n",
    "\n",
    "Trace is the sum of the elements on the main diagonal"
   ]
  },
  {
   "cell_type": "code",
   "execution_count": null,
   "metadata": {
    "id": "0Qc-Y78rMpBD",
    "outputId": "cdc64760-9fdd-4cc1-9768-eaefd33df5ca"
   },
   "outputs": [
    {
     "data": {
      "text/plain": [
       "array([[ 1,  2,  3],\n",
       "       [11, 22, 33],\n",
       "       [ 6,  9, 12]])"
      ]
     },
     "execution_count": 28,
     "metadata": {
      "tags": []
     },
     "output_type": "execute_result"
    }
   ],
   "source": [
    "a"
   ]
  },
  {
   "cell_type": "code",
   "execution_count": null,
   "metadata": {
    "id": "jcd3tuXjMpBE",
    "outputId": "5d16e205-1064-419c-8374-e82fba88acb7"
   },
   "outputs": [
    {
     "data": {
      "text/plain": [
       "35"
      ]
     },
     "execution_count": 29,
     "metadata": {
      "tags": []
     },
     "output_type": "execute_result"
    }
   ],
   "source": [
    "np.trace(a)"
   ]
  },
  {
   "cell_type": "markdown",
   "metadata": {
    "id": "v9fSHAlGMpBG"
   },
   "source": [
    "### Types of Matrices\n",
    "\n",
    "https://www.math24.net/properties-matrices"
   ]
  },
  {
   "cell_type": "markdown",
   "metadata": {
    "id": "jhzsKslrMpBH"
   },
   "source": [
    "### Square Matrix\n",
    "\n",
    "where number of rows and columns are same"
   ]
  },
  {
   "cell_type": "code",
   "execution_count": null,
   "metadata": {
    "id": "IpvTuCZKMpBH",
    "outputId": "cd3aa807-4bec-4873-cdd8-4478b150f428"
   },
   "outputs": [
    {
     "data": {
      "text/plain": [
       "array([[ 1,  2,  3],\n",
       "       [11, 22, 33],\n",
       "       [ 6,  9, 12]])"
      ]
     },
     "execution_count": 30,
     "metadata": {
      "tags": []
     },
     "output_type": "execute_result"
    }
   ],
   "source": [
    "a"
   ]
  },
  {
   "cell_type": "code",
   "execution_count": null,
   "metadata": {
    "id": "MuTuhOE_MpBH",
    "outputId": "39a63fa8-6dec-434b-a0cc-0406404bf798"
   },
   "outputs": [
    {
     "data": {
      "text/plain": [
       "(3, 3)"
      ]
     },
     "execution_count": 31,
     "metadata": {
      "tags": []
     },
     "output_type": "execute_result"
    }
   ],
   "source": [
    "a.shape"
   ]
  },
  {
   "cell_type": "markdown",
   "metadata": {
    "id": "PuDZaaa5MpBH"
   },
   "source": [
    "#### `a` is a square matrix because here number of rows and columns are same"
   ]
  },
  {
   "cell_type": "markdown",
   "metadata": {
    "id": "pKFG_ezwMpBI"
   },
   "source": [
    "### Symmetric Matrix\n",
    "\n",
    "A square matrix is called a symmetric matrix if the elements of the matrix are symmetric with respect to the main diagonal"
   ]
  },
  {
   "cell_type": "code",
   "execution_count": null,
   "metadata": {
    "id": "LqcmoRdEMpBI",
    "outputId": "206c7b96-82d2-4a34-9c14-e2017b901375"
   },
   "outputs": [
    {
     "data": {
      "text/plain": [
       "array([[ 1,  2,  3],\n",
       "       [11, 22, 33],\n",
       "       [ 6,  9, 12]])"
      ]
     },
     "execution_count": 32,
     "metadata": {
      "tags": []
     },
     "output_type": "execute_result"
    }
   ],
   "source": [
    "a"
   ]
  },
  {
   "cell_type": "code",
   "execution_count": null,
   "metadata": {
    "id": "PDl2ka3ZMpBI",
    "outputId": "78660530-c9e5-476b-e36b-154758a3c090"
   },
   "outputs": [
    {
     "data": {
      "text/plain": [
       "array([[  14,  154,   60],\n",
       "       [ 154, 1694,  660],\n",
       "       [  60,  660,  261]])"
      ]
     },
     "execution_count": 33,
     "metadata": {
      "tags": []
     },
     "output_type": "execute_result"
    }
   ],
   "source": [
    "symmetric_mat = a.dot(a.T)\n",
    "\n",
    "symmetric_mat"
   ]
  },
  {
   "cell_type": "code",
   "execution_count": null,
   "metadata": {
    "id": "5HDtByjeMpBI",
    "outputId": "d21eb50b-6544-492b-a8b5-83362250d9d8"
   },
   "outputs": [
    {
     "data": {
      "text/plain": [
       "660"
      ]
     },
     "execution_count": 34,
     "metadata": {
      "tags": []
     },
     "output_type": "execute_result"
    }
   ],
   "source": [
    "symmetric_mat[1][2]"
   ]
  },
  {
   "cell_type": "code",
   "execution_count": null,
   "metadata": {
    "id": "d54U3qZ3MpBJ",
    "outputId": "f8cd6eea-723e-4c2b-a2b2-4ad07ada09f0"
   },
   "outputs": [
    {
     "data": {
      "text/plain": [
       "660"
      ]
     },
     "execution_count": 35,
     "metadata": {
      "tags": []
     },
     "output_type": "execute_result"
    }
   ],
   "source": [
    "symmetric_mat[2][1]"
   ]
  },
  {
   "cell_type": "markdown",
   "metadata": {
    "id": "Gt_SSI8oMpBJ"
   },
   "source": [
    "#### Same as above "
   ]
  },
  {
   "cell_type": "code",
   "execution_count": null,
   "metadata": {
    "id": "vkhJ27oIMpBJ",
    "outputId": "8090fb62-b0c5-47c7-885f-410ddd4afc3e"
   },
   "outputs": [
    {
     "data": {
      "text/plain": [
       "True"
      ]
     },
     "execution_count": 36,
     "metadata": {
      "tags": []
     },
     "output_type": "execute_result"
    }
   ],
   "source": [
    "symmetric_mat[0][2] == symmetric_mat[2][0]"
   ]
  },
  {
   "cell_type": "code",
   "execution_count": null,
   "metadata": {
    "id": "1O23ohe9MpBK",
    "outputId": "d52771ee-bc1a-48fc-bf43-ca6ec9a03fb4"
   },
   "outputs": [
    {
     "data": {
      "text/plain": [
       "True"
      ]
     },
     "execution_count": 37,
     "metadata": {
      "tags": []
     },
     "output_type": "execute_result"
    }
   ],
   "source": [
    "symmetric_mat[0][1] == symmetric_mat[1][0]"
   ]
  },
  {
   "cell_type": "markdown",
   "metadata": {
    "id": "JOvxwF-YMpBK"
   },
   "source": [
    "#### So this is a symmetric matrix"
   ]
  },
  {
   "cell_type": "markdown",
   "metadata": {
    "id": "gZ21v6iLMpBM"
   },
   "source": [
    "### Diagonal Matrix\n",
    "A square matrix is called diagonal if all its elements outside the main diagonal are equal to zero"
   ]
  },
  {
   "cell_type": "code",
   "execution_count": null,
   "metadata": {
    "id": "zJrDS37LMpBM",
    "outputId": "a94a5428-2ce2-45fd-9b3a-54812bf3f6a8"
   },
   "outputs": [
    {
     "data": {
      "text/plain": [
       "array([[2, 0, 0],\n",
       "       [0, 2, 0],\n",
       "       [0, 0, 2]], dtype=int32)"
      ]
     },
     "execution_count": 38,
     "metadata": {
      "tags": []
     },
     "output_type": "execute_result"
    }
   ],
   "source": [
    "diagonal_mat = np.zeros((3, 3), dtype='int32')\n",
    "\n",
    "np.fill_diagonal(diagonal_mat, 2)\n",
    "\n",
    "diagonal_mat"
   ]
  },
  {
   "cell_type": "markdown",
   "metadata": {
    "id": "8GfdYsVnMpBM"
   },
   "source": [
    "### Identity Matrix\n",
    "\n",
    "A diagonal matrix is called the identity matrix if the elements on its main diagonal are all equal to \n",
    "1.(All other elements are zero)"
   ]
  },
  {
   "cell_type": "code",
   "execution_count": null,
   "metadata": {
    "id": "VP09yFypMpBN",
    "outputId": "daaf469f-1057-4483-f0d4-d8d8bba4ad50"
   },
   "outputs": [
    {
     "data": {
      "text/plain": [
       "array([[1., 0., 0.],\n",
       "       [0., 1., 0.],\n",
       "       [0., 0., 1.]])"
      ]
     },
     "execution_count": 39,
     "metadata": {
      "tags": []
     },
     "output_type": "execute_result"
    }
   ],
   "source": [
    "identity_mat = np.zeros((3, 3), dtype='float')\n",
    "\n",
    "np.fill_diagonal(identity_mat, 1)\n",
    "\n",
    "identity_mat"
   ]
  },
  {
   "cell_type": "markdown",
   "metadata": {
    "id": "sxo_JnNoMpBN"
   },
   "source": [
    "### Zero Matrix or Null Matrix"
   ]
  },
  {
   "cell_type": "code",
   "execution_count": null,
   "metadata": {
    "id": "L2NwBrbhMpBN",
    "outputId": "5b06ea70-56a2-4fe5-a204-8b2895b6e227"
   },
   "outputs": [
    {
     "data": {
      "text/plain": [
       "array([[0., 0., 0.],\n",
       "       [0., 0., 0.],\n",
       "       [0., 0., 0.]])"
      ]
     },
     "execution_count": 40,
     "metadata": {
      "tags": []
     },
     "output_type": "execute_result"
    }
   ],
   "source": [
    "zero_mat = np.zeros((3, 3))\n",
    "\n",
    "zero_mat"
   ]
  },
  {
   "cell_type": "markdown",
   "metadata": {
    "id": "l_Tbq7aXMpBO"
   },
   "source": [
    "### Invertible Matrix\n",
    "\n",
    "if AB = BA = I, then it's called Invertival Matrix\n",
    "\n",
    "\n",
    "- Thus B is the inverse of A, in other\n",
    "\n",
    "AB = BA = I\n",
    "\n",
    "B = $A^-$$^1$\n",
    "\n",
    "or \n",
    "\n",
    "A = $B^-$$^1$"
   ]
  },
  {
   "cell_type": "markdown",
   "metadata": {
    "id": "aPYeo938MpBO"
   },
   "source": [
    "##### Lets take a new matrix"
   ]
  },
  {
   "cell_type": "code",
   "execution_count": null,
   "metadata": {
    "id": "BO7cnW4qMpBO",
    "outputId": "45ed58e7-1dd5-489a-a202-ef4d7606ceb5"
   },
   "outputs": [
    {
     "data": {
      "text/plain": [
       "array([[2, 3],\n",
       "       [2, 2]])"
      ]
     },
     "execution_count": 41,
     "metadata": {
      "tags": []
     },
     "output_type": "execute_result"
    }
   ],
   "source": [
    "a = np.array([[2, 3],\n",
    "              [2, 2]])\n",
    "\n",
    "a"
   ]
  },
  {
   "cell_type": "code",
   "execution_count": null,
   "metadata": {
    "id": "KqNdx-0vMpBP",
    "outputId": "8406ccd3-6763-40df-95a7-cf257258dcaf"
   },
   "outputs": [
    {
     "data": {
      "text/plain": [
       "array([[-1. ,  1.5],\n",
       "       [ 1. , -1. ]])"
      ]
     },
     "execution_count": 42,
     "metadata": {
      "tags": []
     },
     "output_type": "execute_result"
    }
   ],
   "source": [
    "b = np.array([[-1, 1.5],\n",
    "              [1, -1]])\n",
    "\n",
    "b"
   ]
  },
  {
   "cell_type": "code",
   "execution_count": null,
   "metadata": {
    "id": "2ktacW5AMpBP",
    "outputId": "db5d37f4-5e7c-49cc-81f3-ab31f99bc492"
   },
   "outputs": [
    {
     "data": {
      "text/plain": [
       "array([[1., 0.],\n",
       "       [0., 1.]])"
      ]
     },
     "execution_count": 43,
     "metadata": {
      "tags": []
     },
     "output_type": "execute_result"
    }
   ],
   "source": [
    "a.dot(b)"
   ]
  },
  {
   "cell_type": "markdown",
   "metadata": {
    "id": "to1i0gBlMpBQ"
   },
   "source": [
    "##### which is a identity matrix, now we will inverse the matrix a and it should be equal to b"
   ]
  },
  {
   "cell_type": "code",
   "execution_count": null,
   "metadata": {
    "id": "7Ap8XArwMpBQ",
    "outputId": "fa23de50-09c4-434a-d31e-0b6732cb0d65"
   },
   "outputs": [
    {
     "data": {
      "text/plain": [
       "array([[-1. ,  1.5],\n",
       "       [ 1. , -1. ]])"
      ]
     },
     "execution_count": 44,
     "metadata": {
      "tags": []
     },
     "output_type": "execute_result"
    }
   ],
   "source": [
    "inverse_a = np.linalg.inv(a)\n",
    "\n",
    "inverse_a"
   ]
  },
  {
   "cell_type": "code",
   "execution_count": null,
   "metadata": {
    "id": "OPaolc2PMpBQ",
    "outputId": "69bb6fbf-1b34-43e0-b468-87ecfe2cb264"
   },
   "outputs": [
    {
     "data": {
      "text/plain": [
       "array([[ True,  True],\n",
       "       [ True,  True]])"
      ]
     },
     "execution_count": 45,
     "metadata": {
      "tags": []
     },
     "output_type": "execute_result"
    }
   ],
   "source": [
    "inverse_a == b"
   ]
  },
  {
   "cell_type": "markdown",
   "metadata": {
    "id": "_E1jNJhhMpBR"
   },
   "source": [
    "### Elementwise Product OR Hadamard Product\n",
    "\n",
    "https://numpy.org/doc/stable/reference/generated/numpy.multiply.html\n",
    "\n",
    "https://stackoverflow.com/questions/40034993/how-to-get-element-wise-matrix-multiplication-hadamard-product-in-numpy"
   ]
  },
  {
   "cell_type": "code",
   "execution_count": null,
   "metadata": {
    "id": "aAA_Kp90MpBR",
    "outputId": "493b7cb4-e20b-460c-f313-637aa993ee0e"
   },
   "outputs": [
    {
     "data": {
      "text/plain": [
       "array([[2, 3],\n",
       "       [2, 2]])"
      ]
     },
     "execution_count": 46,
     "metadata": {
      "tags": []
     },
     "output_type": "execute_result"
    }
   ],
   "source": [
    "a"
   ]
  },
  {
   "cell_type": "code",
   "execution_count": null,
   "metadata": {
    "id": "YC3YOfgGMpBS",
    "outputId": "a0a6c10a-6cf2-4d14-87e3-24b06a9c5dd3"
   },
   "outputs": [
    {
     "data": {
      "text/plain": [
       "array([[-1. ,  1.5],\n",
       "       [ 1. , -1. ]])"
      ]
     },
     "execution_count": 47,
     "metadata": {
      "tags": []
     },
     "output_type": "execute_result"
    }
   ],
   "source": [
    "b"
   ]
  },
  {
   "cell_type": "code",
   "execution_count": null,
   "metadata": {
    "id": "dNzeqFl6MpBS",
    "outputId": "72374bf6-5d04-4ee8-e11f-9bd42fc7ab2d"
   },
   "outputs": [
    {
     "data": {
      "text/plain": [
       "array([[-2. ,  4.5],\n",
       "       [ 2. , -2. ]])"
      ]
     },
     "execution_count": 48,
     "metadata": {
      "tags": []
     },
     "output_type": "execute_result"
    }
   ],
   "source": [
    "a * b"
   ]
  },
  {
   "cell_type": "code",
   "execution_count": null,
   "metadata": {
    "id": "0q5mqfkvMpBT",
    "outputId": "a5402604-e764-4f95-ccd1-86ae309689ff"
   },
   "outputs": [
    {
     "data": {
      "text/plain": [
       "array([[-2. ,  4.5],\n",
       "       [ 2. , -2. ]])"
      ]
     },
     "execution_count": 49,
     "metadata": {
      "tags": []
     },
     "output_type": "execute_result"
    }
   ],
   "source": [
    "np.multiply(a, b)"
   ]
  },
  {
   "cell_type": "markdown",
   "metadata": {
    "id": "A4Uc_x0rMpBU"
   },
   "source": [
    "### Dot product or Scalar product or Matrix product\n",
    "\n",
    "https://en.wikipedia.org/wiki/Dot_product#Algebraic_definition\n",
    "\n",
    "https://numpy.org/devdocs/user/quickstart.html#array-creation\n",
    "\n",
    "Note:- For Multiplication of two matrix or vector it must follow\n",
    "- Column of first matrix(a) must be equal to row of second matrix(b)"
   ]
  },
  {
   "cell_type": "code",
   "execution_count": null,
   "metadata": {
    "id": "igOmTyxgMpBU",
    "outputId": "3f3ce013-0fb5-4eac-9404-fb52884d0389"
   },
   "outputs": [
    {
     "data": {
      "text/plain": [
       "array([[2, 3],\n",
       "       [2, 2]])"
      ]
     },
     "execution_count": 50,
     "metadata": {
      "tags": []
     },
     "output_type": "execute_result"
    }
   ],
   "source": [
    "a"
   ]
  },
  {
   "cell_type": "code",
   "execution_count": null,
   "metadata": {
    "id": "XuLXYktUMpBV",
    "outputId": "317d151d-bd7b-4de6-97d3-5020eef2a64c"
   },
   "outputs": [
    {
     "data": {
      "text/plain": [
       "array([[-1. ,  1.5],\n",
       "       [ 1. , -1. ]])"
      ]
     },
     "execution_count": 51,
     "metadata": {
      "tags": []
     },
     "output_type": "execute_result"
    }
   ],
   "source": [
    "b"
   ]
  },
  {
   "cell_type": "code",
   "execution_count": null,
   "metadata": {
    "id": "wgvMyxkoMpBV",
    "outputId": "2c5cac35-d8b0-4481-c583-b8feda4e1dbf"
   },
   "outputs": [
    {
     "data": {
      "text/plain": [
       "((2, 2), (2, 2))"
      ]
     },
     "execution_count": 52,
     "metadata": {
      "tags": []
     },
     "output_type": "execute_result"
    }
   ],
   "source": [
    "a.shape, b.shape"
   ]
  },
  {
   "cell_type": "markdown",
   "metadata": {
    "id": "J-7iBcduMpBW"
   },
   "source": [
    "##### here, col(a) = row(b)"
   ]
  },
  {
   "cell_type": "code",
   "execution_count": null,
   "metadata": {
    "id": "MC8Ne0CkMpBW",
    "outputId": "e21e1c3b-099c-40be-97c4-7173a9d35352"
   },
   "outputs": [
    {
     "data": {
      "text/plain": [
       "array([[1., 0.],\n",
       "       [0., 1.]])"
      ]
     },
     "execution_count": 53,
     "metadata": {
      "tags": []
     },
     "output_type": "execute_result"
    }
   ],
   "source": [
    "a.dot(b)"
   ]
  },
  {
   "cell_type": "code",
   "execution_count": null,
   "metadata": {
    "id": "9OBxwhAEMpBW",
    "outputId": "04cade43-221b-49f2-9a06-765b99df10d1"
   },
   "outputs": [
    {
     "data": {
      "text/plain": [
       "array([[1., 0.],\n",
       "       [0., 1.]])"
      ]
     },
     "execution_count": 54,
     "metadata": {
      "tags": []
     },
     "output_type": "execute_result"
    }
   ],
   "source": [
    "a @ b"
   ]
  },
  {
   "cell_type": "markdown",
   "metadata": {
    "id": "j3m35TK9MpBW"
   },
   "source": [
    "#### Let's take another matrix"
   ]
  },
  {
   "cell_type": "code",
   "execution_count": null,
   "metadata": {
    "id": "bPbPp7_pMpBX",
    "outputId": "6e0e929b-a854-4ef2-cec5-e6e3801bc112"
   },
   "outputs": [
    {
     "data": {
      "text/plain": [
       "array([[ 4, -1],\n",
       "       [-3,  4],\n",
       "       [-1, -3]])"
      ]
     },
     "execution_count": 55,
     "metadata": {
      "tags": []
     },
     "output_type": "execute_result"
    }
   ],
   "source": [
    "p = np.array(np.random.randint(-5, 5, size=(3, 2)))\n",
    "\n",
    "p"
   ]
  },
  {
   "cell_type": "code",
   "execution_count": null,
   "metadata": {
    "id": "6ZWZTYuoMpBX",
    "outputId": "dd3dccde-4ddb-4449-fe6a-1b829e7c9211"
   },
   "outputs": [
    {
     "data": {
      "text/plain": [
       "array([[7, 7],\n",
       "       [6, 6],\n",
       "       [8, 5]])"
      ]
     },
     "execution_count": 56,
     "metadata": {
      "tags": []
     },
     "output_type": "execute_result"
    }
   ],
   "source": [
    "q = np.array(np.random.randint(5, 10, size=(3, 2)))\n",
    "\n",
    "q"
   ]
  },
  {
   "cell_type": "code",
   "execution_count": null,
   "metadata": {
    "id": "YhGhMvgXMpBX",
    "outputId": "ff20aac2-61f6-402a-aa9e-e2742574bac8"
   },
   "outputs": [
    {
     "data": {
      "text/plain": [
       "((3, 2), (3, 2))"
      ]
     },
     "execution_count": 57,
     "metadata": {
      "tags": []
     },
     "output_type": "execute_result"
    }
   ],
   "source": [
    "p.shape, q.shape"
   ]
  },
  {
   "cell_type": "markdown",
   "metadata": {
    "id": "HEh7wOSBMpBY"
   },
   "source": [
    "##### Here col(p) is not equal to row(q) so dot product will throw error"
   ]
  },
  {
   "cell_type": "code",
   "execution_count": null,
   "metadata": {
    "id": "CNiH769oMpBY",
    "outputId": "c544ef71-78d5-4ccd-c76b-aca4996aace8"
   },
   "outputs": [
    {
     "ename": "ValueError",
     "evalue": "shapes (3,2) and (3,2) not aligned: 2 (dim 1) != 3 (dim 0)",
     "output_type": "error",
     "traceback": [
      "\u001b[0;31m---------------------------------------------------------------------------\u001b[0m",
      "\u001b[0;31mValueError\u001b[0m                                Traceback (most recent call last)",
      "\u001b[0;32m<ipython-input-58-7d3ca48cf272>\u001b[0m in \u001b[0;36m<module>\u001b[0;34m\u001b[0m\n\u001b[0;32m----> 1\u001b[0;31m \u001b[0mp\u001b[0m\u001b[0;34m.\u001b[0m\u001b[0mdot\u001b[0m\u001b[0;34m(\u001b[0m\u001b[0mq\u001b[0m\u001b[0;34m)\u001b[0m\u001b[0;34m\u001b[0m\u001b[0;34m\u001b[0m\u001b[0m\n\u001b[0m",
      "\u001b[0;31mValueError\u001b[0m: shapes (3,2) and (3,2) not aligned: 2 (dim 1) != 3 (dim 0)"
     ]
    }
   ],
   "source": [
    "p.dot(q)"
   ]
  },
  {
   "cell_type": "markdown",
   "metadata": {
    "id": "j-WFzfGhMpBY"
   },
   "source": [
    "### Calculate Rank of matrix\n",
    "\n",
    "https://stattrek.com/matrix-algebra/matrix-rank.aspx"
   ]
  },
  {
   "cell_type": "code",
   "execution_count": null,
   "metadata": {
    "id": "UOyLpYryMpBZ"
   },
   "outputs": [],
   "source": [
    "from numpy.linalg import matrix_rank"
   ]
  },
  {
   "cell_type": "code",
   "execution_count": null,
   "metadata": {
    "id": "x35S257MMpBZ",
    "outputId": "c6675225-1994-4f03-d3c5-7a243611e891"
   },
   "outputs": [
    {
     "data": {
      "text/plain": [
       "array([[ 4, -1],\n",
       "       [-3,  4],\n",
       "       [-1, -3]])"
      ]
     },
     "execution_count": 60,
     "metadata": {
      "tags": []
     },
     "output_type": "execute_result"
    }
   ],
   "source": [
    "p"
   ]
  },
  {
   "cell_type": "code",
   "execution_count": null,
   "metadata": {
    "id": "nBYM-ZsNMpBZ",
    "outputId": "d8faac23-2daa-4f1a-a783-c2dfac91b631"
   },
   "outputs": [
    {
     "data": {
      "text/plain": [
       "2"
      ]
     },
     "execution_count": 61,
     "metadata": {
      "tags": []
     },
     "output_type": "execute_result"
    }
   ],
   "source": [
    "matrix_rank(p)"
   ]
  },
  {
   "cell_type": "code",
   "execution_count": null,
   "metadata": {
    "id": "H7EFeuBTMpBZ",
    "outputId": "65798aa1-9596-4ccf-a975-e9093a81d944"
   },
   "outputs": [
    {
     "data": {
      "text/plain": [
       "array([[2, 3],\n",
       "       [2, 2]])"
      ]
     },
     "execution_count": 62,
     "metadata": {
      "tags": []
     },
     "output_type": "execute_result"
    }
   ],
   "source": [
    "a"
   ]
  },
  {
   "cell_type": "code",
   "execution_count": null,
   "metadata": {
    "id": "LmJ4UtOUMpBa",
    "outputId": "d20f92ce-810d-4bd7-ec89-036ac332d9ad"
   },
   "outputs": [
    {
     "data": {
      "text/plain": [
       "2"
      ]
     },
     "execution_count": 63,
     "metadata": {
      "tags": []
     },
     "output_type": "execute_result"
    }
   ],
   "source": [
    "matrix_rank(a)"
   ]
  },
  {
   "cell_type": "markdown",
   "metadata": {
    "id": "cmal3HFpMpBa"
   },
   "source": [
    "## Using special matrix operations in SciPy\n",
    "Note:- SciPy contains all functions present in NumPy plus a few more"
   ]
  },
  {
   "cell_type": "code",
   "execution_count": null,
   "metadata": {
    "id": "UEldlUjKMpBb"
   },
   "outputs": [],
   "source": [
    "from scipy.sparse import identity, diags"
   ]
  },
  {
   "cell_type": "markdown",
   "metadata": {
    "id": "b5iqHzynMpBb"
   },
   "source": [
    "### Indentity matrix using SciPy"
   ]
  },
  {
   "cell_type": "code",
   "execution_count": null,
   "metadata": {
    "id": "0ZSTt4VFMpBc",
    "outputId": "b2de6114-dab9-4b4b-cc3a-d88929372ae3"
   },
   "outputs": [
    {
     "data": {
      "text/plain": [
       "<2x2 sparse matrix of type '<class 'numpy.float64'>'\n",
       "\twith 2 stored elements (1 diagonals) in DIAgonal format>"
      ]
     },
     "execution_count": 78,
     "metadata": {
      "tags": []
     },
     "output_type": "execute_result"
    }
   ],
   "source": [
    "identity(2)"
   ]
  },
  {
   "cell_type": "code",
   "execution_count": null,
   "metadata": {
    "id": "WlGTHK4AMpDY",
    "outputId": "55ca167f-8de9-4981-bc56-8008f4fbbf6a"
   },
   "outputs": [
    {
     "data": {
      "text/plain": [
       "array([[1., 0.],\n",
       "       [0., 1.]])"
      ]
     },
     "execution_count": 79,
     "metadata": {
      "tags": []
     },
     "output_type": "execute_result"
    }
   ],
   "source": [
    "idty_mat = identity(2).toarray()\n",
    "\n",
    "idty_mat"
   ]
  },
  {
   "cell_type": "code",
   "execution_count": null,
   "metadata": {
    "id": "Av1QgBVBMpDY",
    "outputId": "7a8c0120-99ef-4f30-e25c-b4e768ec61dc"
   },
   "outputs": [
    {
     "data": {
      "text/plain": [
       "array([[1., 0., 0.],\n",
       "       [0., 1., 0.],\n",
       "       [0., 0., 1.]])"
      ]
     },
     "execution_count": 80,
     "metadata": {
      "tags": []
     },
     "output_type": "execute_result"
    }
   ],
   "source": [
    "idty_mat = identity(3).toarray()\n",
    "\n",
    "idty_mat"
   ]
  },
  {
   "cell_type": "markdown",
   "metadata": {
    "id": "VQLVz_JMMpDZ"
   },
   "source": [
    "### Scalar matrix\n",
    "\n",
    "https://stattrek.com/statistics/dictionary.aspx?definition=scalar-matrix"
   ]
  },
  {
   "cell_type": "code",
   "execution_count": null,
   "metadata": {
    "id": "HfsFYySaMpDZ",
    "outputId": "28637180-f632-4b7c-c4c9-6889f8168dd7"
   },
   "outputs": [
    {
     "data": {
      "text/plain": [
       "array([[2., 0., 0.],\n",
       "       [0., 2., 0.],\n",
       "       [0., 0., 2.]])"
      ]
     },
     "execution_count": 81,
     "metadata": {
      "tags": []
     },
     "output_type": "execute_result"
    }
   ],
   "source": [
    "scalar_mat  = diags([2, 2, 2], 0).toarray()\n",
    "\n",
    "scalar_mat"
   ]
  },
  {
   "cell_type": "code",
   "execution_count": null,
   "metadata": {
    "id": "5ggppOEdMpDa",
    "outputId": "b7d0b705-b6a9-4ea3-a1fa-378c9db48b71"
   },
   "outputs": [
    {
     "data": {
      "text/plain": [
       "array([[2., 0., 0.],\n",
       "       [0., 1., 0.],\n",
       "       [0., 0., 3.]])"
      ]
     },
     "execution_count": 82,
     "metadata": {
      "tags": []
     },
     "output_type": "execute_result"
    }
   ],
   "source": [
    "diag_mat  = diags([2, 1, 3], 0).toarray()\n",
    "\n",
    "diag_mat"
   ]
  },
  {
   "cell_type": "code",
   "execution_count": null,
   "metadata": {
    "id": "R03yrcHSMpDb"
   },
   "outputs": [],
   "source": []
  }
 ],
 "metadata": {
  "colab": {
   "name": "m02-demo-01-IntroToMatrices.ipynb",
   "provenance": []
  },
  "kernelspec": {
   "display_name": "Python 3",
   "language": "python",
   "name": "python3"
  },
  "language_info": {
   "codemirror_mode": {
    "name": "ipython",
    "version": 3
   },
   "file_extension": ".py",
   "mimetype": "text/x-python",
   "name": "python",
   "nbconvert_exporter": "python",
   "pygments_lexer": "ipython3",
   "version": "3.7.3"
  }
 },
 "nbformat": 4,
 "nbformat_minor": 1
}
